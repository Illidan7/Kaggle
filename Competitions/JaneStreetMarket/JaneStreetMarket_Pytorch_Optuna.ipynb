{
  "nbformat": 4,
  "nbformat_minor": 0,
  "metadata": {
    "accelerator": "GPU",
    "colab": {
      "name": "JaneStreetMarket - Pytorch Optuna.ipynb",
      "provenance": [],
      "collapsed_sections": []
    },
    "kernelspec": {
      "display_name": "Python 3",
      "name": "python3"
    }
  },
  "cells": [
    {
      "cell_type": "markdown",
      "metadata": {
        "id": "66TRdsE1OuHy"
      },
      "source": [
        "Download Data"
      ]
    },
    {
      "cell_type": "code",
      "metadata": {
        "colab": {
          "resources": {
            "http://localhost:8080/nbextensions/google.colab/files.js": {
              "data": "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",
              "ok": true,
              "headers": [
                [
                  "content-type",
                  "application/javascript"
                ]
              ],
              "status": 200,
              "status_text": ""
            }
          },
          "base_uri": "https://localhost:8080/",
          "height": 91
        },
        "id": "V7cXyR9iTZhy",
        "outputId": "db7a04aa-533f-42fe-93fa-846e8c9ae00b"
      },
      "source": [
        "from google.colab import files\n",
        "files.upload()"
      ],
      "execution_count": null,
      "outputs": [
        {
          "output_type": "display_data",
          "data": {
            "text/html": [
              "\n",
              "     <input type=\"file\" id=\"files-9c9b3dcf-2f92-4b80-a58f-dd57deb8fb4d\" name=\"files[]\" multiple disabled\n",
              "        style=\"border:none\" />\n",
              "     <output id=\"result-9c9b3dcf-2f92-4b80-a58f-dd57deb8fb4d\">\n",
              "      Upload widget is only available when the cell has been executed in the\n",
              "      current browser session. Please rerun this cell to enable.\n",
              "      </output>\n",
              "      <script src=\"/nbextensions/google.colab/files.js\"></script> "
            ],
            "text/plain": [
              "<IPython.core.display.HTML object>"
            ]
          },
          "metadata": {
            "tags": []
          }
        },
        {
          "output_type": "stream",
          "text": [
            "Saving kaggle.json to kaggle.json\n"
          ],
          "name": "stdout"
        },
        {
          "output_type": "execute_result",
          "data": {
            "text/plain": [
              "{'kaggle.json': b'{\"username\":\"illidan7\",\"key\":\"e84c6f64f4ca91fc6b8c48139bf32342\"}'}"
            ]
          },
          "metadata": {
            "tags": []
          },
          "execution_count": 1
        }
      ]
    },
    {
      "cell_type": "code",
      "metadata": {
        "colab": {
          "base_uri": "https://localhost:8080/"
        },
        "id": "d11B1AtGXkrQ",
        "outputId": "24fb9b6d-0ed4-4188-a51e-5660d74ce471"
      },
      "source": [
        "!pip install kaggle"
      ],
      "execution_count": null,
      "outputs": [
        {
          "output_type": "stream",
          "text": [
            "Requirement already satisfied: kaggle in /usr/local/lib/python3.6/dist-packages (1.5.10)\n",
            "Requirement already satisfied: urllib3 in /usr/local/lib/python3.6/dist-packages (from kaggle) (1.24.3)\n",
            "Requirement already satisfied: requests in /usr/local/lib/python3.6/dist-packages (from kaggle) (2.23.0)\n",
            "Requirement already satisfied: certifi in /usr/local/lib/python3.6/dist-packages (from kaggle) (2020.12.5)\n",
            "Requirement already satisfied: python-dateutil in /usr/local/lib/python3.6/dist-packages (from kaggle) (2.8.1)\n",
            "Requirement already satisfied: tqdm in /usr/local/lib/python3.6/dist-packages (from kaggle) (4.41.1)\n",
            "Requirement already satisfied: six>=1.10 in /usr/local/lib/python3.6/dist-packages (from kaggle) (1.15.0)\n",
            "Requirement already satisfied: python-slugify in /usr/local/lib/python3.6/dist-packages (from kaggle) (4.0.1)\n",
            "Requirement already satisfied: chardet<4,>=3.0.2 in /usr/local/lib/python3.6/dist-packages (from requests->kaggle) (3.0.4)\n",
            "Requirement already satisfied: idna<3,>=2.5 in /usr/local/lib/python3.6/dist-packages (from requests->kaggle) (2.10)\n",
            "Requirement already satisfied: text-unidecode>=1.3 in /usr/local/lib/python3.6/dist-packages (from python-slugify->kaggle) (1.3)\n"
          ],
          "name": "stdout"
        }
      ]
    },
    {
      "cell_type": "code",
      "metadata": {
        "colab": {
          "base_uri": "https://localhost:8080/"
        },
        "id": "uX9L0Cd-XtgU",
        "outputId": "d82e68d6-a1d7-4d31-98ca-2ed460ff8887"
      },
      "source": [
        "!mkdir -p ~/.kaggle\n",
        "!cp kaggle.json ~/.kaggle/\n",
        "!ls ~/.kaggle\n",
        "!chmod 600 /root/.kaggle/kaggle.json"
      ],
      "execution_count": null,
      "outputs": [
        {
          "output_type": "stream",
          "text": [
            "kaggle.json\n"
          ],
          "name": "stdout"
        }
      ]
    },
    {
      "cell_type": "code",
      "metadata": {
        "colab": {
          "base_uri": "https://localhost:8080/"
        },
        "id": "2lZRL3aYWxgW",
        "outputId": "252209ce-0a9b-4c91-a790-acecdb054085"
      },
      "source": [
        "!ls -hlt"
      ],
      "execution_count": null,
      "outputs": [
        {
          "output_type": "stream",
          "text": [
            "total 8.0K\n",
            "-rw-r--r-- 1 root root   64 Feb 20 15:21 kaggle.json\n",
            "drwxr-xr-x 1 root root 4.0K Feb 16 16:35 sample_data\n"
          ],
          "name": "stdout"
        }
      ]
    },
    {
      "cell_type": "code",
      "metadata": {
        "colab": {
          "base_uri": "https://localhost:8080/"
        },
        "id": "AG9w2rFCXxMH",
        "outputId": "ec7c241e-ceb9-4c20-bcc2-d1f643a7982c"
      },
      "source": [
        "!kaggle kernels list --user Illidan7 --sort-by dateRun"
      ],
      "execution_count": null,
      "outputs": [
        {
          "output_type": "stream",
          "text": [
            "Warning: Looks like you're using an outdated API Version, please consider updating (server 1.5.10 / client 1.5.4)\n",
            "ref                                               title                                      author    lastRunTime          totalVotes  \n",
            "------------------------------------------------  -----------------------------------------  --------  -------------------  ----------  \n",
            "illidan7/pytorchmodelsubmission                   PytorchModelSubmission                     Illidan7  2021-02-20 04:43:19           0  \n",
            "illidan7/pytorch-optuna-tutorial                  Pytorch-Optuna-Tutorial                    Illidan7  2021-02-14 00:57:33           0  \n",
            "illidan7/notebook7e318a04ea                       notebook7e318a04ea                         Illidan7  2021-02-07 14:06:43           0  \n",
            "illidan7/simple-pytorch-tensorflow-mlp-starter    Simple Pytorch Tensorflow MLP - Starter    Illidan7  2021-02-07 06:45:54           0  \n",
            "illidan7/blending-tensorflow-and-pytorch-starter  Blending tensorflow and pytorch - Starter  Illidan7  2021-02-05 17:04:32           0  \n",
            "illidan7/vegasml                                  VegasML                                    Illidan7  2021-02-01 23:58:52           0  \n",
            "illidan7/extracttopagents                         ExtractTopAgents                           Illidan7  2021-01-31 06:48:58           0  \n",
            "illidan7/santaepisodetraining                     SantaEpisodeTraining                       Illidan7  2021-01-30 00:12:30           0  \n",
            "illidan7/santaepisodescraper                      SantaEpisodeScraper                        Illidan7  2021-01-29 23:56:58           0  \n",
            "illidan7/kerasnn                                  KerasNN                                    Illidan7  2021-01-28 05:35:24           0  \n",
            "illidan7/santadecisiontree                        SantaDecisionTree                          Illidan7  2021-01-21 00:40:20           0  \n",
            "illidan7/parsesantaepisodes2020                   parseSantaEpisodes2020                     Illidan7  2021-01-16 04:52:00           0  \n",
            "illidan7/parseepisodes                            ParseEpisodes                              Illidan7  2021-01-15 00:45:43           0  \n",
            "illidan7/northpolestarter                         NorthPoleStarter                           Illidan7  2020-12-25 21:11:21           0  \n",
            "illidan7/starter-pak-xgb-2                        Starter pak - XGB 2                        Illidan7  2020-12-10 16:22:14           0  \n",
            "illidan7/starter-pak-xgb                          Starter Pak - XGB                          Illidan7  2020-12-10 00:57:03           0  \n",
            "illidan7/starter-pak-lightgbm                     Starter pak - lightGBM                     Illidan7  2020-12-09 23:58:41           0  \n",
            "illidan7/xgboost-risk-based-weighted-predictions  XGBoost + Risk-based Weighted Predictions  Illidan7  2020-12-07 16:59:15           0  \n",
            "illidan7/injurytimesubmission                     InjuryTimeSubmission                       Illidan7  2020-11-30 20:42:38           0  \n",
            "illidan7/rl-data-approx                           RL data approx                             Illidan7  2020-11-18 22:18:34           0  \n"
          ],
          "name": "stdout"
        }
      ]
    },
    {
      "cell_type": "code",
      "metadata": {
        "colab": {
          "base_uri": "https://localhost:8080/"
        },
        "id": "l6wd4Lr6YCzP",
        "outputId": "33e50ce2-bdcc-4cef-fb03-86c7a37b6c36"
      },
      "source": [
        "!kaggle competitions download -c jane-street-market-prediction"
      ],
      "execution_count": null,
      "outputs": [
        {
          "output_type": "stream",
          "text": [
            "Warning: Looks like you're using an outdated API Version, please consider updating (server 1.5.10 / client 1.5.4)\n",
            "Downloading competition.cpython-37m-x86_64-linux-gnu.so to /content\n",
            "  0% 0.00/441k [00:00<?, ?B/s]\n",
            "100% 441k/441k [00:00<00:00, 60.2MB/s]\n",
            "Downloading __init__.py to /content\n",
            "  0% 0.00/59.0 [00:00<?, ?B/s]\n",
            "100% 59.0/59.0 [00:00<00:00, 51.9kB/s]\n",
            "Downloading example_sample_submission.csv to /content\n",
            "  0% 0.00/108k [00:00<?, ?B/s]\n",
            "100% 108k/108k [00:00<00:00, 112MB/s]\n",
            "Downloading features.csv to /content\n",
            "  0% 0.00/23.3k [00:00<?, ?B/s]\n",
            "100% 23.3k/23.3k [00:00<00:00, 20.5MB/s]\n",
            "Downloading example_test.csv.zip to /content\n",
            " 30% 5.00M/16.4M [00:00<00:00, 28.2MB/s]\n",
            "100% 16.4M/16.4M [00:00<00:00, 65.1MB/s]\n",
            "Downloading train.csv.zip to /content\n",
            "100% 2.60G/2.61G [00:44<00:00, 52.8MB/s]\n",
            "100% 2.61G/2.61G [00:44<00:00, 63.5MB/s]\n"
          ],
          "name": "stdout"
        }
      ]
    },
    {
      "cell_type": "code",
      "metadata": {
        "colab": {
          "base_uri": "https://localhost:8080/"
        },
        "id": "MUSBDNDGY8jF",
        "outputId": "403cc2b0-d63a-4caf-848d-9937d387f569"
      },
      "source": [
        "!unzip train.csv.zip -d ."
      ],
      "execution_count": null,
      "outputs": [
        {
          "output_type": "stream",
          "text": [
            "Archive:  train.csv.zip\n",
            "  inflating: ./train.csv             \n"
          ],
          "name": "stdout"
        }
      ]
    },
    {
      "cell_type": "code",
      "metadata": {
        "colab": {
          "base_uri": "https://localhost:8080/"
        },
        "id": "R3kjVGbyZDqc",
        "outputId": "f62f791f-97d5-4f4f-d1dc-cb36c3d87062"
      },
      "source": [
        "!ls -hlt"
      ],
      "execution_count": null,
      "outputs": [
        {
          "output_type": "stream",
          "text": [
            "total 8.4G\n",
            "-rw-r--r-- 1 root root 2.7G Feb 20 15:22 train.csv.zip\n",
            "-rw-r--r-- 1 root root  17M Feb 20 15:21 example_test.csv.zip\n",
            "-rw-r--r-- 1 root root  24K Feb 20 15:21 features.csv\n",
            "-rw-r--r-- 1 root root 109K Feb 20 15:21 example_sample_submission.csv\n",
            "-rw-r--r-- 1 root root   59 Feb 20 15:21 __init__.py\n",
            "-rw-r--r-- 1 root root 442K Feb 20 15:21 competition.cpython-37m-x86_64-linux-gnu.so\n",
            "-rw-r--r-- 1 root root   64 Feb 20 15:21 kaggle.json\n",
            "drwxr-xr-x 1 root root 4.0K Feb 16 16:35 sample_data\n",
            "-rw-r--r-- 1 root root 5.8G Dec 17 23:51 train.csv\n"
          ],
          "name": "stdout"
        }
      ]
    },
    {
      "cell_type": "code",
      "metadata": {
        "colab": {
          "base_uri": "https://localhost:8080/"
        },
        "id": "viVk5Gm3bw3R",
        "outputId": "0d3d9cf9-3d61-4a55-a807-2c76463dcce0"
      },
      "source": [
        "!mkdir input/\n",
        "!mv *.csv input/\n",
        "!mv *.csv.zip input/\n",
        "!ls -hlt"
      ],
      "execution_count": null,
      "outputs": [
        {
          "output_type": "stream",
          "text": [
            "total 460K\n",
            "drwxr-xr-x 2 root root 4.0K Feb 20 15:24 input\n",
            "-rw-r--r-- 1 root root   59 Feb 20 15:21 __init__.py\n",
            "-rw-r--r-- 1 root root 442K Feb 20 15:21 competition.cpython-37m-x86_64-linux-gnu.so\n",
            "-rw-r--r-- 1 root root   64 Feb 20 15:21 kaggle.json\n",
            "drwxr-xr-x 1 root root 4.0K Feb 16 16:35 sample_data\n"
          ],
          "name": "stdout"
        }
      ]
    },
    {
      "cell_type": "code",
      "metadata": {
        "colab": {
          "base_uri": "https://localhost:8080/"
        },
        "id": "5ZrPcK2AhKQB",
        "outputId": "7f02fbd0-135a-4a0f-f32d-2c91ffbde887"
      },
      "source": [
        "!ls -hlt input/"
      ],
      "execution_count": null,
      "outputs": [
        {
          "output_type": "stream",
          "text": [
            "total 8.4G\n",
            "-rw-r--r-- 1 root root 2.7G Feb 20 15:22 train.csv.zip\n",
            "-rw-r--r-- 1 root root  17M Feb 20 15:21 example_test.csv.zip\n",
            "-rw-r--r-- 1 root root  24K Feb 20 15:21 features.csv\n",
            "-rw-r--r-- 1 root root 109K Feb 20 15:21 example_sample_submission.csv\n",
            "-rw-r--r-- 1 root root 5.8G Dec 17 23:51 train.csv\n"
          ],
          "name": "stdout"
        }
      ]
    },
    {
      "cell_type": "code",
      "metadata": {
        "id": "uQcjGDorX7Hf"
      },
      "source": [
        "!mkdir working/"
      ],
      "execution_count": null,
      "outputs": []
    },
    {
      "cell_type": "markdown",
      "metadata": {
        "id": "lA85EV7rO1Sd"
      },
      "source": [
        "Data load and cleaning"
      ]
    },
    {
      "cell_type": "code",
      "metadata": {
        "colab": {
          "base_uri": "https://localhost:8080/"
        },
        "id": "W-AS-pnEQ4IH",
        "outputId": "ac0baaf8-252f-4f4e-93ce-9f3116108885"
      },
      "source": [
        "!pip install datatable \n",
        "!pip install optuna\n",
        "\n",
        "import numpy as np\n",
        "import pandas as pd\n",
        "pd.set_option('display.max_rows', 500)\n",
        "pd.set_option('display.max_columns', 500)\n",
        "\n",
        "import optuna\n",
        "import datatable as dt\n",
        "import os\n",
        "import pickle\n",
        "import random"
      ],
      "execution_count": null,
      "outputs": [
        {
          "output_type": "stream",
          "text": [
            "Requirement already satisfied: datatable in /usr/local/lib/python3.6/dist-packages (0.11.1)\n",
            "Requirement already satisfied: optuna in /usr/local/lib/python3.6/dist-packages (2.5.0)\n",
            "Requirement already satisfied: cmaes>=0.6.0 in /usr/local/lib/python3.6/dist-packages (from optuna) (0.8.2)\n",
            "Requirement already satisfied: tqdm in /usr/local/lib/python3.6/dist-packages (from optuna) (4.41.1)\n",
            "Requirement already satisfied: numpy in /usr/local/lib/python3.6/dist-packages (from optuna) (1.19.5)\n",
            "Requirement already satisfied: joblib in /usr/local/lib/python3.6/dist-packages (from optuna) (1.0.0)\n",
            "Requirement already satisfied: colorlog in /usr/local/lib/python3.6/dist-packages (from optuna) (4.7.2)\n",
            "Requirement already satisfied: alembic in /usr/local/lib/python3.6/dist-packages (from optuna) (1.5.4)\n",
            "Requirement already satisfied: packaging>=20.0 in /usr/local/lib/python3.6/dist-packages (from optuna) (20.9)\n",
            "Requirement already satisfied: scipy!=1.4.0 in /usr/local/lib/python3.6/dist-packages (from optuna) (1.4.1)\n",
            "Requirement already satisfied: cliff in /usr/local/lib/python3.6/dist-packages (from optuna) (3.7.0)\n",
            "Requirement already satisfied: sqlalchemy>=1.1.0 in /usr/local/lib/python3.6/dist-packages (from optuna) (1.3.23)\n",
            "Requirement already satisfied: python-dateutil in /usr/local/lib/python3.6/dist-packages (from alembic->optuna) (2.8.1)\n",
            "Requirement already satisfied: python-editor>=0.3 in /usr/local/lib/python3.6/dist-packages (from alembic->optuna) (1.0.4)\n",
            "Requirement already satisfied: Mako in /usr/local/lib/python3.6/dist-packages (from alembic->optuna) (1.1.4)\n",
            "Requirement already satisfied: pyparsing>=2.0.2 in /usr/local/lib/python3.6/dist-packages (from packaging>=20.0->optuna) (2.4.7)\n",
            "Requirement already satisfied: pbr!=2.1.0,>=2.0.0 in /usr/local/lib/python3.6/dist-packages (from cliff->optuna) (5.5.1)\n",
            "Requirement already satisfied: PrettyTable>=0.7.2 in /usr/local/lib/python3.6/dist-packages (from cliff->optuna) (2.0.0)\n",
            "Requirement already satisfied: stevedore>=2.0.1 in /usr/local/lib/python3.6/dist-packages (from cliff->optuna) (3.3.0)\n",
            "Requirement already satisfied: PyYAML>=3.12 in /usr/local/lib/python3.6/dist-packages (from cliff->optuna) (3.13)\n",
            "Requirement already satisfied: cmd2>=1.0.0 in /usr/local/lib/python3.6/dist-packages (from cliff->optuna) (1.5.0)\n",
            "Requirement already satisfied: six>=1.5 in /usr/local/lib/python3.6/dist-packages (from python-dateutil->alembic->optuna) (1.15.0)\n",
            "Requirement already satisfied: MarkupSafe>=0.9.2 in /usr/local/lib/python3.6/dist-packages (from Mako->alembic->optuna) (1.1.1)\n",
            "Requirement already satisfied: wcwidth in /usr/local/lib/python3.6/dist-packages (from PrettyTable>=0.7.2->cliff->optuna) (0.2.5)\n",
            "Requirement already satisfied: setuptools in /usr/local/lib/python3.6/dist-packages (from PrettyTable>=0.7.2->cliff->optuna) (53.0.0)\n",
            "Requirement already satisfied: importlib-metadata>=1.7.0; python_version < \"3.8\" in /usr/local/lib/python3.6/dist-packages (from stevedore>=2.0.1->cliff->optuna) (3.4.0)\n",
            "Requirement already satisfied: attrs>=16.3.0 in /usr/local/lib/python3.6/dist-packages (from cmd2>=1.0.0->cliff->optuna) (20.3.0)\n",
            "Requirement already satisfied: pyperclip>=1.6 in /usr/local/lib/python3.6/dist-packages (from cmd2>=1.0.0->cliff->optuna) (1.8.1)\n",
            "Requirement already satisfied: colorama>=0.3.7 in /usr/local/lib/python3.6/dist-packages (from cmd2>=1.0.0->cliff->optuna) (0.4.4)\n",
            "Requirement already satisfied: typing-extensions>=3.6.4; python_version < \"3.8\" in /usr/local/lib/python3.6/dist-packages (from importlib-metadata>=1.7.0; python_version < \"3.8\"->stevedore>=2.0.1->cliff->optuna) (3.7.4.3)\n",
            "Requirement already satisfied: zipp>=0.5 in /usr/local/lib/python3.6/dist-packages (from importlib-metadata>=1.7.0; python_version < \"3.8\"->stevedore>=2.0.1->cliff->optuna) (3.4.0)\n"
          ],
          "name": "stdout"
        }
      ]
    },
    {
      "cell_type": "code",
      "metadata": {
        "id": "7aHMGXSLD7jG"
      },
      "source": [
        "def df_column_types(df, cardinality_cutoff=10):\n",
        "\n",
        "    # Select categorical columns with low cardinality\n",
        "    low_card_cols = [cname for cname in df.columns if\n",
        "                        df[cname].nunique() <= cardinality_cutoff and\n",
        "                        (df[cname].dtype == \"object\" or df[cname].dtype == \"category\" or df[cname].dtype == \"bool\" or \"code\" in cname)]\n",
        "\n",
        "    # Select categorical columns with high cardinality\n",
        "    high_card_cols = [cname for cname in df.columns if\n",
        "                        df[cname].nunique() > cardinality_cutoff and\n",
        "                        df[cname].dtype == \"object\"]\n",
        "\n",
        "    numerics = ['int16', 'int32', 'int64', 'float16', 'float32', 'float64']\n",
        "\n",
        "    # Select numerical columns\n",
        "    numerical_cols = [cname for cname in df.columns if\n",
        "                    df[cname].dtype in numerics and \"code\" not in cname]\n",
        "\n",
        "    return low_card_cols, high_card_cols, numerical_cols"
      ],
      "execution_count": null,
      "outputs": []
    },
    {
      "cell_type": "code",
      "metadata": {
        "id": "pk0wevlzOah-"
      },
      "source": [
        "def pickle_dump(path, saveobj):\n",
        "    import pickle\n",
        "    filehandler = open(path,\"wb\")\n",
        "    pickle.dump(saveobj,filehandler)\n",
        "    print(\"File pickled\")\n",
        "    filehandler.close()"
      ],
      "execution_count": null,
      "outputs": []
    },
    {
      "cell_type": "code",
      "metadata": {
        "colab": {
          "base_uri": "https://localhost:8080/"
        },
        "id": "dkVWXN9-8Z5f",
        "outputId": "da0ec811-b0a5-4065-c34c-cd106361be85"
      },
      "source": [
        "import torch\n",
        "print(torch.cuda.device_count())\n",
        "print(torch.cuda.get_device_name(0)) "
      ],
      "execution_count": null,
      "outputs": [
        {
          "output_type": "stream",
          "text": [
            "1\n",
            "Tesla T4\n"
          ],
          "name": "stdout"
        }
      ]
    },
    {
      "cell_type": "code",
      "metadata": {
        "colab": {
          "base_uri": "https://localhost:8080/"
        },
        "id": "umf7NWLh5Cpg",
        "outputId": "dc72c886-7629-4748-a823-0e65124d53b3"
      },
      "source": [
        "import torch\n",
        "print('Torch', torch.__version__, 'CUDA', torch.version.cuda)\n",
        "print('Device:', torch.device('cuda:0'))"
      ],
      "execution_count": null,
      "outputs": [
        {
          "output_type": "stream",
          "text": [
            "Torch 1.7.0+cu101 CUDA 10.1\n",
            "Device: cuda:0\n"
          ],
          "name": "stdout"
        }
      ]
    },
    {
      "cell_type": "code",
      "metadata": {
        "colab": {
          "base_uri": "https://localhost:8080/"
        },
        "id": "8LuAXlhgDMer",
        "outputId": "f22b8034-f9c3-4e64-f2ee-f10e4a5d66be"
      },
      "source": [
        "print(\"Loading data\")\n",
        "\n",
        "df_dt = dt.fread(\"./input/train.csv\")\n",
        "df = df_dt.to_pandas()\n",
        "\n",
        "features = [c for c in df.columns if 'feature' in c]"
      ],
      "execution_count": null,
      "outputs": [
        {
          "output_type": "stream",
          "text": [
            "Loading data\n"
          ],
          "name": "stdout"
        }
      ]
    },
    {
      "cell_type": "code",
      "metadata": {
        "colab": {
          "base_uri": "https://localhost:8080/"
        },
        "id": "bL304HtiDOEk",
        "outputId": "9789218d-b0fb-42a0-adc8-ea8abb0c8f17"
      },
      "source": [
        "print(\"Filling missing values\")\n",
        "\n",
        "f_mean = df[features[1:]].mean()\n",
        "\n",
        "df  = df.loc[df.weight > 0].reset_index(drop=True)\n",
        "df[features[1:]] = df[features[1:]]. fillna(f_mean)\n",
        "df['action'] = (df['resp'] > 0).astype('int')\n",
        "\n",
        "df = df.astype({c: np.float32 for c in df.select_dtypes(include='float64').columns})\n",
        "\n",
        "f_mean = f_mean.values\n",
        "np.save('./working/f_mean.npy', f_mean)"
      ],
      "execution_count": null,
      "outputs": [
        {
          "output_type": "stream",
          "text": [
            "Filling missing values\n"
          ],
          "name": "stdout"
        }
      ]
    },
    {
      "cell_type": "code",
      "metadata": {
        "colab": {
          "base_uri": "https://localhost:8080/"
        },
        "id": "jMQyL3BGDUrh",
        "outputId": "20d0a710-09f4-4ad4-ba41-c0d21deb34a1"
      },
      "source": [
        "print(\"Robust Scaling\")\n",
        "\n",
        "df['feature_0'] = df['feature_0'].astype('category')\n",
        "\n",
        "low_card_cols, high_card_cols, numerical_cols = df_column_types(df[features])\n",
        "\n",
        "from sklearn.preprocessing import RobustScaler\n",
        "scaler = RobustScaler(quantile_range=(5,95))\n",
        "scaler.fit(df[numerical_cols])\n",
        "\n",
        "df = pd.concat([df[[col for col in df.columns if col not in numerical_cols]].reset_index(drop=True),\n",
        "                     pd.DataFrame(scaler.transform(df[numerical_cols]), columns=df[numerical_cols].columns)], axis=1)\n",
        "\n",
        "pickle_dump('./working/scaler.pkl', scaler)"
      ],
      "execution_count": null,
      "outputs": [
        {
          "output_type": "stream",
          "text": [
            "Robust Scaling\n",
            "File pickled\n"
          ],
          "name": "stdout"
        }
      ]
    },
    {
      "cell_type": "code",
      "metadata": {
        "colab": {
          "base_uri": "https://localhost:8080/"
        },
        "id": "g9hhlJ1obnag",
        "outputId": "0d14ca34-7c50-43e8-8fce-5c34a1f6d86a"
      },
      "source": [
        "pickle.dump(df, open('./working/train.csv.pandas.pickle', 'wb'))\n",
        "df.shape"
      ],
      "execution_count": null,
      "outputs": [
        {
          "output_type": "execute_result",
          "data": {
            "text/plain": [
              "(1981287, 139)"
            ]
          },
          "metadata": {
            "tags": []
          },
          "execution_count": 11
        }
      ]
    },
    {
      "cell_type": "code",
      "metadata": {
        "colab": {
          "base_uri": "https://localhost:8080/"
        },
        "id": "P6zoQqfwZkQm",
        "outputId": "08af5180-42cc-451a-98a9-9423af215f4a"
      },
      "source": [
        "!nvidia-smi"
      ],
      "execution_count": null,
      "outputs": [
        {
          "output_type": "stream",
          "text": [
            "Sat Feb 20 02:27:30 2021       \n",
            "+-----------------------------------------------------------------------------+\n",
            "| NVIDIA-SMI 460.39       Driver Version: 460.32.03    CUDA Version: 11.2     |\n",
            "|-------------------------------+----------------------+----------------------+\n",
            "| GPU  Name        Persistence-M| Bus-Id        Disp.A | Volatile Uncorr. ECC |\n",
            "| Fan  Temp  Perf  Pwr:Usage/Cap|         Memory-Usage | GPU-Util  Compute M. |\n",
            "|                               |                      |               MIG M. |\n",
            "|===============================+======================+======================|\n",
            "|   0  Tesla T4            Off  | 00000000:00:04.0 Off |                    0 |\n",
            "| N/A   39C    P8     9W /  70W |      3MiB / 15109MiB |      0%      Default |\n",
            "|                               |                      |                  N/A |\n",
            "+-------------------------------+----------------------+----------------------+\n",
            "                                                                               \n",
            "+-----------------------------------------------------------------------------+\n",
            "| Processes:                                                                  |\n",
            "|  GPU   GI   CI        PID   Type   Process name                  GPU Memory |\n",
            "|        ID   ID                                                   Usage      |\n",
            "|=============================================================================|\n",
            "|  No running processes found                                                 |\n",
            "+-----------------------------------------------------------------------------+\n"
          ],
          "name": "stdout"
        }
      ]
    },
    {
      "cell_type": "code",
      "metadata": {
        "colab": {
          "base_uri": "https://localhost:8080/"
        },
        "id": "pjOpI1K4gxar",
        "outputId": "d89ddb3a-d9e0-48eb-a42b-4ab57a6265fb"
      },
      "source": [
        "del df\n",
        "import gc\n",
        "gc.collect()"
      ],
      "execution_count": null,
      "outputs": [
        {
          "output_type": "execute_result",
          "data": {
            "text/plain": [
              "31"
            ]
          },
          "metadata": {
            "tags": []
          },
          "execution_count": 12
        }
      ]
    },
    {
      "cell_type": "code",
      "metadata": {
        "colab": {
          "base_uri": "https://localhost:8080/"
        },
        "id": "0ioUPs4Ag-II",
        "outputId": "264091ed-0de3-49b4-a9ee-5d39af634ee5"
      },
      "source": [
        "%%time\n",
        "train_pickle_file = './working/train.csv.pandas.pickle'\n",
        "df = pickle.load(open(train_pickle_file, 'rb'))\n",
        "df.shape"
      ],
      "execution_count": null,
      "outputs": [
        {
          "output_type": "stream",
          "text": [
            "CPU times: user 278 ms, sys: 410 ms, total: 688 ms\n",
            "Wall time: 697 ms\n"
          ],
          "name": "stdout"
        }
      ]
    },
    {
      "cell_type": "code",
      "metadata": {
        "colab": {
          "base_uri": "https://localhost:8080/"
        },
        "id": "rV80QKRxhKT7",
        "outputId": "6187a851-02f7-45c2-bee4-7dc18a7af119"
      },
      "source": [
        "%%time\n",
        "# GroupTimeSeriesSplit.py\n",
        "from sklearn.model_selection._split import _BaseKFold, indexable, _num_samples\n",
        "from sklearn.utils.validation import _deprecate_positional_args\n",
        "\n",
        "# https://github.com/getgaurav2/scikit-learn/blob/d4a3af5cc9da3a76f0266932644b884c99724c57/sklearn/model_selection/_split.py#L2243\n",
        "class GroupTimeSeriesSplit(_BaseKFold):\n",
        "    \"\"\"Time Series cross-validator variant with non-overlapping groups.\n",
        "    Provides train/test indices to split time series data samples\n",
        "    that are observed at fixed time intervals according to a\n",
        "    third-party provided group.\n",
        "    In each split, test indices must be higher than before, and thus shuffling\n",
        "    in cross validator is inappropriate.\n",
        "    This cross-validation object is a variation of :class:`KFold`.\n",
        "    In the kth split, it returns first k folds as train set and the\n",
        "    (k+1)th fold as test set.\n",
        "    The same group will not appear in two different folds (the number of\n",
        "    distinct groups has to be at least equal to the number of folds).\n",
        "    Note that unlike standard cross-validation methods, successive\n",
        "    training sets are supersets of those that come before them.\n",
        "    Read more in the :ref:`User Guide <cross_validation>`.\n",
        "    Parameters\n",
        "    ----------\n",
        "    n_splits : int, default=5\n",
        "        Number of splits. Must be at least 2.\n",
        "    max_train_size : int, default=None\n",
        "        Maximum size for a single training set.\n",
        "    Examples\n",
        "    --------\n",
        "    >>> import numpy as np\n",
        "    >>> from sklearn.model_selection import GroupTimeSeriesSplit\n",
        "    >>> groups = np.array(['a', 'a', 'a', 'a', 'a', 'a',\\\n",
        "                           'b', 'b', 'b', 'b', 'b',\\\n",
        "                           'c', 'c', 'c', 'c',\\\n",
        "                           'd', 'd', 'd'])\n",
        "    >>> gtss = GroupTimeSeriesSplit(n_splits=3)\n",
        "    >>> for train_idx, test_idx in gtss.split(groups, groups=groups):\n",
        "    ...     print(\"TRAIN:\", train_idx, \"TEST:\", test_idx)\n",
        "    ...     print(\"TRAIN GROUP:\", groups[train_idx],\\\n",
        "                  \"TEST GROUP:\", groups[test_idx])\n",
        "    TRAIN: [0, 1, 2, 3, 4, 5] TEST: [6, 7, 8, 9, 10]\n",
        "    TRAIN GROUP: ['a' 'a' 'a' 'a' 'a' 'a']\\\n",
        "    TEST GROUP: ['b' 'b' 'b' 'b' 'b']\n",
        "    TRAIN: [0, 1, 2, 3, 4, 5, 6, 7, 8, 9, 10] TEST: [11, 12, 13, 14]\n",
        "    TRAIN GROUP: ['a' 'a' 'a' 'a' 'a' 'a' 'b' 'b' 'b' 'b' 'b']\\\n",
        "    TEST GROUP: ['c' 'c' 'c' 'c']\n",
        "    TRAIN: [0, 1, 2, 3, 4, 5, 6, 7, 8, 9, 10, 11, 12, 13, 14]\\\n",
        "    TEST: [15, 16, 17]\n",
        "    TRAIN GROUP: ['a' 'a' 'a' 'a' 'a' 'a' 'b' 'b' 'b' 'b' 'b' 'c' 'c' 'c' 'c']\\\n",
        "    TEST GROUP: ['d' 'd' 'd']\n",
        "    \"\"\"\n",
        "    @_deprecate_positional_args\n",
        "    def __init__(self,\n",
        "                 n_splits=5,\n",
        "                 *,\n",
        "                 max_train_size=None\n",
        "                 ):\n",
        "        super().__init__(n_splits, shuffle=False, random_state=None)\n",
        "        self.max_train_size = max_train_size\n",
        "\n",
        "    def split(self, X, y=None, groups=None):\n",
        "        \"\"\"Generate indices to split data into training and test set.\n",
        "        Parameters\n",
        "        ----------\n",
        "        X : array-like of shape (n_samples, n_features)\n",
        "            Training data, where n_samples is the number of samples\n",
        "            and n_features is the number of features.\n",
        "        y : array-like of shape (n_samples,)\n",
        "            Always ignored, exists for compatibility.\n",
        "        groups : array-like of shape (n_samples,)\n",
        "            Group labels for the samples used while splitting the dataset into\n",
        "            train/test set.\n",
        "        Yields\n",
        "        ------\n",
        "        train : ndarray\n",
        "            The training set indices for that split.\n",
        "        test : ndarray\n",
        "            The testing set indices for that split.\n",
        "        \"\"\"\n",
        "        if groups is None:\n",
        "            raise ValueError(\n",
        "                \"The 'groups' parameter should not be None\")\n",
        "        X, y, groups = indexable(X, y, groups)\n",
        "        n_samples = _num_samples(X)\n",
        "        n_splits = self.n_splits\n",
        "        n_folds = n_splits + 1\n",
        "        group_dict = {}\n",
        "        u, ind = np.unique(groups, return_index=True)\n",
        "        unique_groups = u[np.argsort(ind)]\n",
        "        n_samples = _num_samples(X)\n",
        "        n_groups = _num_samples(unique_groups)\n",
        "        for idx in np.arange(n_samples):\n",
        "            if (groups[idx] in group_dict):\n",
        "                group_dict[groups[idx]].append(idx)\n",
        "            else:\n",
        "                group_dict[groups[idx]] = [idx]\n",
        "        if n_folds > n_groups:\n",
        "            raise ValueError(\n",
        "                (\"Cannot have number of folds={0} greater than\"\n",
        "                 \" the number of groups={1}\").format(n_folds,\n",
        "                                                     n_groups))\n",
        "        group_test_size = n_groups // n_folds\n",
        "        group_test_starts = range(n_groups - n_splits * group_test_size,\n",
        "                                  n_groups, group_test_size)\n",
        "        for group_test_start in group_test_starts:\n",
        "            train_array = []\n",
        "            test_array = []\n",
        "            for train_group_idx in unique_groups[:group_test_start]:\n",
        "                train_array_tmp = group_dict[train_group_idx]\n",
        "                train_array = np.sort(np.unique(\n",
        "                                      np.concatenate((train_array,\n",
        "                                                      train_array_tmp)),\n",
        "                                      axis=None), axis=None)\n",
        "            train_end = train_array.size\n",
        "            if self.max_train_size and self.max_train_size < train_end:\n",
        "                train_array = train_array[train_end -\n",
        "                                          self.max_train_size:train_end]\n",
        "            for test_group_idx in unique_groups[group_test_start:\n",
        "                                                group_test_start +\n",
        "                                                group_test_size]:\n",
        "                test_array_tmp = group_dict[test_group_idx]\n",
        "                test_array = np.sort(np.unique(\n",
        "                                              np.concatenate((test_array,\n",
        "                                                              test_array_tmp)),\n",
        "                                     axis=None), axis=None)\n",
        "            yield [int(i) for i in train_array], [int(i) for i in test_array]\n",
        "\n",
        "            \n",
        "def create_folds(df):\n",
        "#     df.loc[:,\"kfold\"] = -1\n",
        "    \n",
        "    for fold,(train_idx, valid_idx) in enumerate(GroupTimeSeriesSplit().split(df, groups=df['date'])):\n",
        "        train_temp = df.loc[train_idx,:]\n",
        "        valid_temp = df.loc[valid_idx,:]\n",
        "        train_temp.to_csv(f\"./working/train_fold{fold+1}.csv\", index=False)\n",
        "        valid_temp.to_csv(f\"./working/valid_fold{fold+1}.csv\", index=False)\n",
        "        \n",
        "    print(\"Folds created\")\n",
        "\n",
        "\n",
        "temp = df[['ts_id','date']].copy()\n",
        "create_folds(temp)"
      ],
      "execution_count": null,
      "outputs": [
        {
          "output_type": "stream",
          "text": [
            "Folds created\n",
            "CPU times: user 46.3 s, sys: 616 ms, total: 46.9 s\n",
            "Wall time: 47 s\n"
          ],
          "name": "stdout"
        }
      ]
    },
    {
      "cell_type": "code",
      "metadata": {
        "colab": {
          "base_uri": "https://localhost:8080/"
        },
        "id": "bU4HE6cxhXX1",
        "outputId": "6f3b5172-25fa-4cb0-f76d-416a16f94a2b"
      },
      "source": [
        "del df\n",
        "import gc\n",
        "gc.collect()"
      ],
      "execution_count": null,
      "outputs": [
        {
          "output_type": "execute_result",
          "data": {
            "text/plain": [
              "0"
            ]
          },
          "metadata": {
            "tags": []
          },
          "execution_count": 15
        }
      ]
    },
    {
      "cell_type": "markdown",
      "metadata": {
        "id": "3aEkhq82hjVD"
      },
      "source": [
        "### Model training"
      ]
    },
    {
      "cell_type": "code",
      "metadata": {
        "colab": {
          "base_uri": "https://localhost:8080/"
        },
        "id": "DWQQ5QK-96qM",
        "outputId": "f59dee47-0c15-4c98-eaa7-6c9766343f69"
      },
      "source": [
        "!pip install datatable \n",
        "!pip install optuna\n",
        "\n",
        "import numpy as np\n",
        "import pandas as pd\n",
        "\n",
        "import optuna\n",
        "import torch\n",
        "import datatable as dt\n",
        "import os\n",
        "import pickle\n",
        "import random"
      ],
      "execution_count": null,
      "outputs": [
        {
          "output_type": "stream",
          "text": [
            "Collecting datatable\n",
            "\u001b[?25l  Downloading https://files.pythonhosted.org/packages/80/cb/21810c43b687a19d194c372192049f535fba28c55ce76d37e7e407159c52/datatable-0.11.1-cp36-cp36m-manylinux2010_x86_64.whl (83.7MB)\n",
            "\u001b[K     |██████████████████████████▉     | 70.3MB 4.7MB/s eta 0:00:03"
          ],
          "name": "stdout"
        }
      ]
    },
    {
      "cell_type": "code",
      "metadata": {
        "colab": {
          "base_uri": "https://localhost:8080/"
        },
        "id": "s5JDttODhhwK",
        "outputId": "dfe390c5-7f88-474b-e079-d03afa7e38d5"
      },
      "source": [
        "!ls -hlt ./working/"
      ],
      "execution_count": null,
      "outputs": [
        {
          "output_type": "stream",
          "text": [
            "total 1.1G\n",
            "-rw-r--r-- 1 root root  92K Feb 20 17:10 model_1.bin\n",
            "-rw-r--r-- 1 root root  25K Feb 20 17:06 model_5.bin\n",
            "-rw-r--r-- 1 root root  25K Feb 20 17:05 model_4.bin\n",
            "-rw-r--r-- 1 root root  25K Feb 20 16:51 model_3.bin\n",
            "-rw-r--r-- 1 root root  25K Feb 20 16:40 model_2.bin\n",
            "-rw-r--r-- 1 root root 4.3M Feb 20 16:23 valid_fold5.csv\n",
            "-rw-r--r-- 1 root root  18M Feb 20 16:23 train_fold5.csv\n",
            "-rw-r--r-- 1 root root 4.0M Feb 20 16:23 valid_fold4.csv\n",
            "-rw-r--r-- 1 root root  14M Feb 20 16:23 train_fold4.csv\n",
            "-rw-r--r-- 1 root root 3.6M Feb 20 16:22 valid_fold3.csv\n",
            "-rw-r--r-- 1 root root 9.7M Feb 20 16:22 train_fold3.csv\n",
            "-rw-r--r-- 1 root root 3.3M Feb 20 16:22 valid_fold2.csv\n",
            "-rw-r--r-- 1 root root 6.4M Feb 20 16:22 train_fold2.csv\n",
            "-rw-r--r-- 1 root root 2.7M Feb 20 16:22 valid_fold1.csv\n",
            "-rw-r--r-- 1 root root 3.7M Feb 20 16:22 train_fold1.csv\n",
            "-rw-r--r-- 1 root root 1.1G Feb 20 16:22 train.csv.pandas.pickle\n",
            "-rw-r--r-- 1 root root 2.0K Feb 20 16:22 scaler.pkl\n",
            "-rw-r--r-- 1 root root  644 Feb 20 16:21 f_mean.npy\n"
          ],
          "name": "stdout"
        }
      ]
    },
    {
      "cell_type": "code",
      "metadata": {
        "id": "k9Uzvy64he65"
      },
      "source": [
        "def seed_everything(seed=42):\n",
        "    random.seed(seed)\n",
        "    os.environ['PYTHONHASHSEED'] = str(seed)\n",
        "    np.random.seed(seed)\n",
        "    torch.manual_seed(seed)\n",
        "    torch.cuda.manual_seed(seed)\n",
        "    torch.backends.cudnn.deterministic = True\n",
        "seed_everything(seed=42)"
      ],
      "execution_count": null,
      "outputs": []
    },
    {
      "cell_type": "code",
      "metadata": {
        "id": "sUFADF-3hyj5"
      },
      "source": [
        "# utils.py\n",
        "import torch\n",
        "import torch.nn as nn\n",
        "\n",
        "class JaneStreetDataset:\n",
        "    def __init__(self, features, targets):\n",
        "        self.features = features\n",
        "        self.targets = targets.reshape(-1, 1)\n",
        "    \n",
        "    def __len__(self):\n",
        "        return self.features.shape[0]\n",
        "    \n",
        "    def __getitem__(self, item):\n",
        "        return {\n",
        "            \"x\": torch.tensor(self.features[item, :], dtype=torch.float),\n",
        "            \"y\": torch.tensor(self.targets[item, :], dtype=torch.float)\n",
        "        }\n",
        "\n",
        "    \n",
        "class Engine:\n",
        "    def __init__(self, model, optimizer, device):\n",
        "        self.model = model\n",
        "        self.device = device\n",
        "        self.optimizer = optimizer\n",
        "    \n",
        "    @staticmethod\n",
        "    def loss_fn(targets, outputs):\n",
        "        return nn.BCEWithLogitsLoss()(outputs, targets)\n",
        "    \n",
        "    def train(self, data_loader):\n",
        "        self.model.train()\n",
        "        final_loss=0\n",
        "        for data in data_loader:\n",
        "            self.optimizer.zero_grad()\n",
        "            inputs = data[\"x\"].to(self.device)\n",
        "            targets = data[\"y\"].to(self.device)\n",
        "            outputs = self.model(inputs)\n",
        "            loss = self.loss_fn(targets, outputs)\n",
        "            loss.backward()\n",
        "            self.optimizer.step()\n",
        "            final_loss += loss.item()\n",
        "        return final_loss/ len(data_loader)\n",
        "    \n",
        "    def evaluate(self, data_loader):\n",
        "        self.model.eval()\n",
        "        final_loss=0\n",
        "        for data in data_loader:\n",
        "            inputs = data[\"x\"].to(self.device)\n",
        "            targets = data[\"y\"].to(self.device)\n",
        "            outputs = self.model(inputs)\n",
        "            loss = self.loss_fn(targets, outputs)\n",
        "            final_loss += loss.item()\n",
        "        return final_loss/ len(data_loader)\n",
        "\n",
        "    \n",
        "class Model(nn.Module):\n",
        "    def __init__(self, nfeatures, ntargets, nlayers, hidden_size, dropout):\n",
        "        super().__init__()\n",
        "        layers = []\n",
        "        for _ in range(nlayers):\n",
        "            if len(layers) == 0:\n",
        "                layers.append(nn.Linear(nfeatures, hidden_size))\n",
        "                layers.append(nn.BatchNorm1d(hidden_size))\n",
        "                layers.append(nn.Dropout(dropout))\n",
        "                layers.append(nn.ReLU())\n",
        "            else:\n",
        "                layers.append(nn.Linear(hidden_size, hidden_size))\n",
        "                layers.append(nn.BatchNorm1d(hidden_size))\n",
        "                layers.append(nn.Dropout(dropout))\n",
        "                layers.append(nn.ReLU())\n",
        "        layers.append(nn.Linear(hidden_size, ntargets))\n",
        "        self.model = nn.Sequential(*layers)\n",
        "    \n",
        "    \n",
        "    def forward(self, x):\n",
        "        return self.model(x)\n"
      ],
      "execution_count": null,
      "outputs": []
    },
    {
      "cell_type": "code",
      "metadata": {
        "id": "XeUB4pOvxBUO"
      },
      "source": [
        "nlayers=5\n",
        "hidden_size=256\n",
        "\n",
        "hidden_neurons = []\n",
        "\n",
        "n=5\n",
        "while n > 0:\n",
        "  mid=True if (nlayers//2)+1 == n else False\n",
        "  if nlayers % 2 == 0:\n",
        "    pass\n",
        "  else:\n",
        "    if mid:\n",
        "      hidden_neurons.append(hidden_size)\n",
        "      n-=1\n",
        "      continue\n",
        "    comp = nlayers - (n//2) \n",
        "    hidden_neurons.append(hidden_size//comp)\n",
        "    n-=1\n"
      ],
      "execution_count": null,
      "outputs": []
    },
    {
      "cell_type": "code",
      "metadata": {
        "colab": {
          "base_uri": "https://localhost:8080/"
        },
        "id": "pA8iOntEys5v",
        "outputId": "572cc7f1-f4e8-4dc1-b99a-153eaf369a29"
      },
      "source": [
        "hidden_neurons"
      ],
      "execution_count": null,
      "outputs": [
        {
          "output_type": "execute_result",
          "data": {
            "text/plain": [
              "[85, 85, 256, 64, 51]"
            ]
          },
          "metadata": {
            "tags": []
          },
          "execution_count": 7
        }
      ]
    },
    {
      "cell_type": "code",
      "metadata": {
        "id": "lgg_VgTvh5xr",
        "colab": {
          "base_uri": "https://localhost:8080/",
          "height": 381
        },
        "outputId": "123f4d03-fdb7-4e06-f0aa-62a4aefa0efd"
      },
      "source": [
        "# train.py\n",
        "import torch\n",
        "import pandas as pd\n",
        "import numpy as np\n",
        "import datatable as dt\n",
        "import pickle\n",
        "\n",
        "DEVICE = torch.device('cuda:0')\n",
        "EPOCHS = 100\n",
        "\n",
        "def run_training(fold, params, save_model=False):\n",
        "    train_pickle_file = './working/train.csv.pandas.pickle'\n",
        "    df = pickle.load(open(train_pickle_file, 'rb'))\n",
        "    \n",
        "    print(\"Dataset loaded\")\n",
        "    \n",
        "    # Read in training folds\n",
        "    train_fold = pd.read_csv(f\"./working/train_fold{fold+1}.csv\")\n",
        "    valid_fold = pd.read_csv(f\"./working/valid_fold{fold+1}.csv\")\n",
        "\n",
        "    feature_cols = [c for c in df.columns if \"feature\" in c]\n",
        "    \n",
        "    # Train and validation folds\n",
        "    train_df = pd.merge(df, train_fold, on=\"ts_id\", how=\"inner\")\n",
        "    valid_df = pd.merge(df, valid_fold, on=\"ts_id\", how=\"inner\")\n",
        "    \n",
        "    print(\"Folds loaded\")\n",
        "    \n",
        "    xtrain = train_df[feature_cols].to_numpy()\n",
        "    ytrain = train_df[\"action\"].to_numpy()\n",
        "    \n",
        "    xvalid = valid_df[feature_cols].to_numpy()\n",
        "    yvalid = valid_df[\"action\"].to_numpy()\n",
        "    \n",
        "    train_dataset = JaneStreetDataset(features=xtrain, targets=ytrain)\n",
        "    valid_dataset = JaneStreetDataset(features=xvalid, targets=yvalid)\n",
        "    \n",
        "    train_loader = torch.utils.data.DataLoader(train_dataset, batch_size=4096, num_workers=4)\n",
        "    valid_loader = torch.utils.data.DataLoader(train_dataset, batch_size=4096, num_workers=4)\n",
        "    \n",
        "    model = Model(\n",
        "        nfeatures=np.shape(xtrain)[1], \n",
        "        ntargets=1, \n",
        "        nlayers=params['num_layers'], \n",
        "        hidden_size=params['hidden_size'],\n",
        "        dropout=params['dropout']\n",
        "    )\n",
        "    model.to(DEVICE)\n",
        "    optimizer = torch.optim.Adam(model.parameters(), lr=params['learning_rate'])\n",
        "    eng = Engine(model, optimizer, device=DEVICE)\n",
        "    \n",
        "    best_loss = np.inf\n",
        "    early_stopping_iter = 5\n",
        "    early_stopping_counter = 0\n",
        "    \n",
        "    print(\"Model training begins\")\n",
        "    \n",
        "    for epoch in range(EPOCHS):\n",
        "        train_loss = eng.train(train_loader)\n",
        "        valid_loss = eng.evaluate(valid_loader)\n",
        "        print(f\"{fold}, {epoch}, {train_loss}, {valid_loss}\")\n",
        "        if valid_loss < best_loss:\n",
        "            best_loss = valid_loss\n",
        "            if save_model:\n",
        "                torch.save(model.state_dict(), f\"./working/model_{fold+1}.bin\")\n",
        "        else:\n",
        "            early_stopping_counter+=1\n",
        "        \n",
        "        if early_stopping_counter > early_stopping_iter:\n",
        "            break\n",
        "    \n",
        "    return best_loss\n",
        "\n",
        "\n",
        "\n",
        "def objective(trial):\n",
        "    params = {\n",
        "        \"num_layers\": trial.suggest_int(\"num_layers\", 1, 3),\n",
        "        \"hidden_size\": trial.suggest_int(\"hidden_size\", 16, 512),\n",
        "        \"dropout\": trial.suggest_uniform(\"dropout\", 0.1, 0.7),\n",
        "        \"learning_rate\": trial.suggest_loguniform(\"learning_rate\", 1e-6, 1e-2)\n",
        "    }\n",
        "    all_losses = []\n",
        "    for f_ in range(5):\n",
        "        temp_loss = run_training(f_, params, save_model=True)\n",
        "        all_losses.append(temp_loss)\n",
        "    \n",
        "    return np.mean(all_losses)"
      ],
      "execution_count": null,
      "outputs": [
        {
          "output_type": "error",
          "ename": "ModuleNotFoundError",
          "evalue": "ignored",
          "traceback": [
            "\u001b[0;31m---------------------------------------------------------------------------\u001b[0m",
            "\u001b[0;31mModuleNotFoundError\u001b[0m                       Traceback (most recent call last)",
            "\u001b[0;32m<ipython-input-2-b8d688e25255>\u001b[0m in \u001b[0;36m<module>\u001b[0;34m()\u001b[0m\n\u001b[1;32m      3\u001b[0m \u001b[0;32mimport\u001b[0m \u001b[0mpandas\u001b[0m \u001b[0;32mas\u001b[0m \u001b[0mpd\u001b[0m\u001b[0;34m\u001b[0m\u001b[0;34m\u001b[0m\u001b[0m\n\u001b[1;32m      4\u001b[0m \u001b[0;32mimport\u001b[0m \u001b[0mnumpy\u001b[0m \u001b[0;32mas\u001b[0m \u001b[0mnp\u001b[0m\u001b[0;34m\u001b[0m\u001b[0;34m\u001b[0m\u001b[0m\n\u001b[0;32m----> 5\u001b[0;31m \u001b[0;32mimport\u001b[0m \u001b[0mdatatable\u001b[0m \u001b[0;32mas\u001b[0m \u001b[0mdt\u001b[0m\u001b[0;34m\u001b[0m\u001b[0;34m\u001b[0m\u001b[0m\n\u001b[0m\u001b[1;32m      6\u001b[0m \u001b[0;32mimport\u001b[0m \u001b[0mpickle\u001b[0m\u001b[0;34m\u001b[0m\u001b[0;34m\u001b[0m\u001b[0m\n\u001b[1;32m      7\u001b[0m \u001b[0;34m\u001b[0m\u001b[0m\n",
            "\u001b[0;31mModuleNotFoundError\u001b[0m: No module named 'datatable'",
            "",
            "\u001b[0;31m---------------------------------------------------------------------------\u001b[0;32m\nNOTE: If your import is failing due to a missing package, you can\nmanually install dependencies using either !pip or !apt.\n\nTo view examples of installing some common dependencies, click the\n\"Open Examples\" button below.\n\u001b[0;31m---------------------------------------------------------------------------\u001b[0m\n"
          ]
        }
      ]
    },
    {
      "cell_type": "markdown",
      "metadata": {
        "id": "fZzPnWXSPm5b"
      },
      "source": [
        "Run Optuna Parameter search"
      ]
    },
    {
      "cell_type": "code",
      "metadata": {
        "id": "diFzPffYh9Cv",
        "colab": {
          "base_uri": "https://localhost:8080/"
        },
        "outputId": "c40bb6b9-0144-4a11-cf0a-3d0a1137fb41"
      },
      "source": [
        "study = optuna.create_study(direction=\"minimize\")\n",
        "study.optimize(objective, n_trials=20)\n",
        "\n",
        "print(\"Best trial:\")\n",
        "trial_ = study.best_trial\n",
        "\n",
        "print(trial_.values)\n",
        "print(trial_.params)\n",
        "\n",
        "scores = 0\n",
        "for j in range(5):\n",
        "    scr = run_training(j, trial_.params, save_model=True)\n",
        "    scores+=scr\n",
        "\n",
        "print(scores/5)"
      ],
      "execution_count": null,
      "outputs": [
        {
          "output_type": "stream",
          "text": [
            "\u001b[32m[I 2021-02-20 17:12:59,525]\u001b[0m A new study created in memory with name: no-name-fc7d26c5-b49a-4ae8-9052-4d7a8b022ad2\u001b[0m\n"
          ],
          "name": "stderr"
        },
        {
          "output_type": "stream",
          "text": [
            "Dataset loaded\n",
            "Folds loaded\n",
            "Model training begins\n",
            "0, 0, 0.70418310834437, 0.6971893146329996\n",
            "0, 1, 0.6990697803545971, 0.6945796438625881\n",
            "0, 2, 0.6970937245962571, 0.6935100993331598\n",
            "0, 3, 0.6962012715485631, 0.6926304734483058\n",
            "0, 4, 0.6953449778410853, 0.6922015523423954\n",
            "0, 5, 0.6946916951208698, 0.6915143795159399\n",
            "0, 6, 0.6942749716797654, 0.6913513644617431\n",
            "0, 7, 0.6940952940863006, 0.6907652367134484\n",
            "0, 8, 0.6935710499481279, 0.69099922934357\n",
            "0, 9, 0.6930077532116248, 0.6908180652832498\n",
            "Dataset loaded\n",
            "Folds loaded\n",
            "Model training begins\n",
            "1, 0, 0.7053235343524388, 0.6939321674915574\n",
            "1, 1, 0.6998922602730508, 0.6925650605503817\n",
            "1, 2, 0.6981402972470159, 0.6918784013446073\n",
            "1, 3, 0.6973283964654674, 0.6914176119040258\n",
            "1, 4, 0.6963621922161268, 0.6911784543754151\n",
            "1, 5, 0.6956735234823286, 0.6907628711706363\n",
            "1, 6, 0.6951997591101605, 0.6905842675185352\n",
            "1, 7, 0.6946855664993665, 0.6903563711954199\n",
            "1, 8, 0.69402914017624, 0.6902328681501543\n",
            "1, 9, 0.6939223312443088, 0.6900617091552071\n",
            "Dataset loaded\n",
            "Folds loaded\n",
            "Model training begins\n",
            "2, 0, 0.7155358495875301, 0.6978772453263274\n",
            "2, 1, 0.7000458240509033, 0.6946283589061509\n",
            "2, 2, 0.6983073577921615, 0.692867480791532\n",
            "2, 3, 0.6972651165774745, 0.6918624647152729\n",
            "2, 4, 0.6962830088077447, 0.6914362943070567\n",
            "2, 5, 0.6958158398285891, 0.6914468690370902\n",
            "2, 6, 0.6951366484674633, 0.6909536897626698\n",
            "2, 7, 0.6946733611771184, 0.690750064758154\n",
            "2, 8, 0.6943347140764579, 0.6907245975274307\n",
            "2, 9, 0.6941011660119407, 0.690856301631683\n",
            "Dataset loaded\n",
            "Folds loaded\n",
            "Model training begins\n",
            "3, 0, 0.7011524659972037, 0.6968230024460823\n",
            "3, 1, 0.6978463286353696, 0.6944320413374132\n",
            "3, 2, 0.69643465165169, 0.6933954694578724\n",
            "3, 3, 0.6956449724012805, 0.6922603370681886\n",
            "3, 4, 0.6950106151642338, 0.6919102357279869\n",
            "3, 5, 0.6943611023887512, 0.6914598891811986\n",
            "3, 6, 0.693918110862855, 0.6912111516921751\n",
            "3, 7, 0.6935688659068077, 0.6910121189009759\n",
            "3, 8, 0.693317307964448, 0.6909654002035818\n",
            "3, 9, 0.6929530845534417, 0.6905989029715138\n",
            "Dataset loaded\n",
            "Folds loaded\n",
            "Model training begins\n",
            "4, 0, 0.7053002436754062, 0.694871000378265\n",
            "4, 1, 0.6983626853996122, 0.6931786152917117\n",
            "4, 2, 0.6969551666436462, 0.6924559355992351\n",
            "4, 3, 0.6960814737426448, 0.6918529154080425\n",
            "4, 4, 0.6953297264987442, 0.6915370339366991\n",
            "4, 5, 0.6947299635349796, 0.6913421763683939\n",
            "4, 6, 0.6942870409658113, 0.691053719992565\n",
            "4, 7, 0.6937934243436997, 0.6908836210439653\n",
            "4, 8, 0.6935508475085805, 0.6907629308664254\n"
          ],
          "name": "stdout"
        },
        {
          "output_type": "stream",
          "text": [
            "\u001b[32m[I 2021-02-20 17:50:39,236]\u001b[0m Trial 0 finished with value: 0.6905569239105374 and parameters: {'num_layers': 2, 'hidden_size': 257, 'dropout': 0.16941247127490633, 'learning_rate': 2.7086490992178346e-05}. Best is trial 0 with value: 0.6905569239105374.\u001b[0m\n"
          ],
          "name": "stderr"
        },
        {
          "output_type": "stream",
          "text": [
            "4, 9, 0.6933721909063116, 0.6906341731850871\n",
            "Dataset loaded\n",
            "Folds loaded\n",
            "Model training begins\n",
            "0, 0, 0.7246920369109329, 0.706326043119236\n",
            "0, 1, 0.7194546424612707, 0.7017281590675821\n",
            "0, 2, 0.7175446590598749, 0.6989725657871791\n",
            "0, 3, 0.7161290067799237, 0.6972217316530189\n",
            "0, 4, 0.7137845608652854, 0.6960805417323599\n",
            "0, 5, 0.713078459306639, 0.6953138295485048\n",
            "0, 6, 0.7127678747079811, 0.694736897945404\n",
            "0, 7, 0.711796233240439, 0.6942909919485754\n",
            "0, 8, 0.7116225939624163, 0.6939350859243043\n",
            "0, 9, 0.7107661999001795, 0.6936269968139882\n",
            "Dataset loaded\n",
            "Folds loaded\n",
            "Model training begins\n",
            "1, 0, 0.723058637624942, 0.7053882709201078\n",
            "1, 1, 0.7181938997707011, 0.7007652261982793\n",
            "1, 2, 0.7148143027139746, 0.6979350388420295\n",
            "1, 3, 0.7128842158347183, 0.6961992497769942\n",
            "1, 4, 0.7115141804914297, 0.6951564542995476\n",
            "1, 5, 0.7102674053322454, 0.694517549520694\n",
            "1, 6, 0.7098911556397905, 0.6940630596616993\n",
            "1, 7, 0.7083090254979104, 0.6937020872690662\n",
            "1, 8, 0.7083363892128749, 0.693436160220863\n",
            "1, 9, 0.7071802197776226, 0.6932208053073527\n",
            "Dataset loaded\n",
            "Folds loaded\n",
            "Model training begins\n",
            "2, 0, 0.7184618622319311, 0.7004170927227052\n",
            "2, 1, 0.7150553543852944, 0.6978736114807618\n",
            "2, 2, 0.7130099397439223, 0.6967728981095501\n",
            "2, 3, 0.7118055020642077, 0.6960828518256162\n",
            "2, 4, 0.7099696565897037, 0.6955373738056574\n",
            "2, 5, 0.7095903114885347, 0.6950726937025021\n",
            "2, 6, 0.7091590657702878, 0.6946846740877527\n",
            "2, 7, 0.708220647695737, 0.6942938843853453\n",
            "2, 8, 0.7075743835705978, 0.6939989486311235\n",
            "2, 9, 0.7074258880228059, 0.6937649013140262\n",
            "Dataset loaded\n",
            "Folds loaded\n",
            "Model training begins\n",
            "3, 0, 0.716032894772868, 0.700711908648091\n",
            "3, 1, 0.7119513132879811, 0.6977172657366721\n",
            "3, 2, 0.7103227692265665, 0.6961399660956475\n",
            "3, 3, 0.7094113582564938, 0.6950300939621464\n",
            "3, 4, 0.7084475380759085, 0.6943432002298293\n",
            "3, 5, 0.707433231223014, 0.6937691732760398\n",
            "3, 6, 0.7060709266893326, 0.6933761144838025\n",
            "3, 7, 0.7055916430488709, 0.6930651507069988\n",
            "3, 8, 0.7047932330639132, 0.6928109859266589\n",
            "3, 9, 0.7042003658510023, 0.6925891239796915\n",
            "Dataset loaded\n",
            "Folds loaded\n",
            "Model training begins\n",
            "4, 0, 0.718157297917429, 0.699880153092031\n",
            "4, 1, 0.71266812388667, 0.6965940614339664\n",
            "4, 2, 0.7105941180952915, 0.6954012274137004\n",
            "4, 3, 0.7089989978044772, 0.6947074535534467\n",
            "4, 4, 0.7082976609619741, 0.6942162016018998\n",
            "4, 5, 0.7069664083156489, 0.6938091316804063\n",
            "4, 6, 0.7061924941951249, 0.6934783469299375\n",
            "4, 7, 0.7052490479752497, 0.6931894512345949\n",
            "4, 8, 0.7043818757316183, 0.692945326796643\n"
          ],
          "name": "stdout"
        },
        {
          "output_type": "stream",
          "text": [
            "\u001b[32m[I 2021-02-20 18:27:23,083]\u001b[0m Trial 1 finished with value: 0.6931904842295029 and parameters: {'num_layers': 1, 'hidden_size': 176, 'dropout': 0.484000147682183, 'learning_rate': 9.292696245366525e-06}. Best is trial 0 with value: 0.6905569239105374.\u001b[0m\n"
          ],
          "name": "stderr"
        },
        {
          "output_type": "stream",
          "text": [
            "4, 9, 0.7038707997895739, 0.6927505937324563\n",
            "Dataset loaded\n",
            "Folds loaded\n",
            "Model training begins\n",
            "0, 0, 0.7030125521883672, 0.6924365022960974\n",
            "0, 1, 0.6955582134577692, 0.6917383579575286\n",
            "0, 2, 0.6931956878730229, 0.6910823388975493\n",
            "0, 3, 0.6920552521335835, 0.6908291517471781\n",
            "0, 4, 0.6911194592106099, 0.6903488964450603\n",
            "0, 5, 0.6905659960240734, 0.6902536865399809\n",
            "0, 6, 0.6901724551405225, 0.6898061736505858\n",
            "0, 7, 0.6897787178049282, 0.6898147153611086\n",
            "0, 8, 0.689305958699207, 0.6895650619146775\n",
            "0, 9, 0.6891863413003027, 0.6894945325900097\n",
            "Dataset loaded\n",
            "Folds loaded\n",
            "Model training begins\n",
            "1, 0, 0.7007894416033111, 0.6991127918225638\n",
            "1, 1, 0.6948778681133104, 0.6950958530354944\n",
            "1, 2, 0.6931920447704955, 0.6932738919435821\n",
            "1, 3, 0.6920919647868375, 0.6924530282524062\n",
            "1, 4, 0.6916023840815384, 0.6920919103652053\n",
            "1, 5, 0.6911428330107505, 0.6917240101358165\n",
            "1, 6, 0.6909380766175548, 0.6916582810212366\n",
            "1, 7, 0.6905944391807414, 0.691234378711037\n",
            "1, 8, 0.6904282866057402, 0.691220119873189\n",
            "1, 9, 0.6902334504986402, 0.691013905572595\n",
            "Dataset loaded\n",
            "Folds loaded\n",
            "Model training begins\n",
            "2, 0, 0.6994865623294798, 0.6933667899196984\n",
            "2, 1, 0.6939681814267085, 0.6915276735766321\n",
            "2, 2, 0.6925940485591562, 0.6910817740309951\n",
            "2, 3, 0.6920466336429628, 0.690983846401557\n",
            "2, 4, 0.6916334723305498, 0.6908119318322239\n",
            "2, 5, 0.6914410723580254, 0.6906709589509883\n",
            "2, 6, 0.6913305105816605, 0.6905180187816293\n",
            "2, 7, 0.6911144376310527, 0.6904061034194424\n",
            "2, 8, 0.6910210914081998, 0.6902357648071061\n",
            "2, 9, 0.6908515819117554, 0.6900026780417842\n",
            "Dataset loaded\n",
            "Folds loaded\n",
            "Model training begins\n",
            "3, 0, 0.698681204934274, 0.6924364901358081\n",
            "3, 1, 0.6932181335264637, 0.6915061923765367\n",
            "3, 2, 0.6922103176193852, 0.6911485664306148\n",
            "3, 3, 0.6918289149961164, 0.6909842395013378\n",
            "3, 4, 0.6915750918849822, 0.6908401850731142\n",
            "3, 5, 0.6913646530720495, 0.6908109712985254\n",
            "3, 6, 0.6912252397306504, 0.6906490504741669\n",
            "3, 7, 0.691050370085624, 0.6906459744899504\n",
            "3, 8, 0.6909288996650327, 0.6905712552608982\n",
            "3, 9, 0.690754597610043, 0.6905510306358338\n",
            "Dataset loaded\n",
            "Folds loaded\n",
            "Model training begins\n",
            "4, 0, 0.6979211264757941, 0.6927881833865558\n",
            "4, 1, 0.6930156626979712, 0.692592802840441\n",
            "4, 2, 0.6923240291588197, 0.6928972418840766\n"
          ],
          "name": "stdout"
        },
        {
          "output_type": "stream",
          "text": [
            "\u001b[32m[I 2021-02-20 18:57:03,130]\u001b[0m Trial 2 finished with value: 0.6907309899361327 and parameters: {'num_layers': 1, 'hidden_size': 458, 'dropout': 0.17066820560690232, 'learning_rate': 0.0007058745723106516}. Best is trial 0 with value: 0.6905569239105374.\u001b[0m\n"
          ],
          "name": "stderr"
        },
        {
          "output_type": "stream",
          "text": [
            "4, 3, 0.691999609095191, 0.692808640487303\n",
            "Dataset loaded\n",
            "Folds loaded\n",
            "Model training begins\n",
            "0, 0, 0.7271588231836047, 0.6925187445416743\n",
            "0, 1, 0.7168752836937807, 0.6918610656748012\n",
            "0, 2, 0.7122256962620482, 0.6916378152613737\n",
            "0, 3, 0.7086075270662502, 0.6913072825694571\n",
            "0, 4, 0.7052715621432479, 0.6914489184107099\n",
            "0, 5, 0.7030484998712734, 0.6908588281699589\n",
            "0, 6, 0.7001632962908063, 0.6909224074714038\n",
            "Dataset loaded\n",
            "Folds loaded\n",
            "Model training begins\n",
            "1, 0, 0.7226398627950538, 0.6916962032732756\n",
            "1, 1, 0.711523111192336, 0.691053064713567\n",
            "1, 2, 0.705364205452226, 0.6909472090857369\n",
            "1, 3, 0.7015193334277372, 0.6908689048719703\n",
            "1, 4, 0.6986476867835715, 0.6908321384317386\n",
            "1, 5, 0.6966599029783876, 0.6908217875853829\n",
            "1, 6, 0.695421232199817, 0.6908309729943364\n",
            "1, 7, 0.6941937037876674, 0.6908451385379578\n",
            "Dataset loaded\n",
            "Folds loaded\n",
            "Model training begins\n",
            "2, 0, 0.7205925155908633, 0.6926157759805011\n",
            "2, 1, 0.7073177015170072, 0.6918034308995956\n",
            "2, 2, 0.7012766018891946, 0.6913925498469263\n",
            "2, 3, 0.697575663908934, 0.6912915327100673\n",
            "2, 4, 0.695525262855057, 0.691269621380374\n",
            "2, 5, 0.6941198714268513, 0.691320536737768\n",
            "2, 6, 0.6931726018078307, 0.6912277939482632\n",
            "2, 7, 0.6927665421086499, 0.6912792373416771\n",
            "Dataset loaded\n",
            "Folds loaded\n",
            "Model training begins\n",
            "3, 0, 0.7183416441563637, 0.6927372082587211\n",
            "3, 1, 0.7043137669563293, 0.6920300333730636\n",
            "3, 2, 0.698152655747629, 0.6915112739609134\n",
            "3, 3, 0.69496550713816, 0.6913490166587214\n",
            "3, 4, 0.6935432241808983, 0.6912960015958355\n",
            "3, 5, 0.6926946989951596, 0.6912673723313116\n",
            "3, 6, 0.6923438785537597, 0.691243960395936\n",
            "3, 7, 0.6920572340488433, 0.6911671763466251\n",
            "3, 8, 0.69184968086981, 0.691109340229342\n",
            "3, 9, 0.6917693178499899, 0.6910425491871373\n",
            "Dataset loaded\n",
            "Folds loaded\n",
            "Model training begins\n",
            "4, 0, 0.7174310914150954, 0.6923951211617078\n",
            "4, 1, 0.7019109319006731, 0.6918687038312709\n",
            "4, 2, 0.6963487922540171, 0.6917767577667526\n",
            "4, 3, 0.6940079031861978, 0.6918033449177815\n"
          ],
          "name": "stdout"
        },
        {
          "output_type": "stream",
          "text": [
            "\u001b[32m[I 2021-02-20 19:24:21,555]\u001b[0m Trial 3 finished with value: 0.6911455433314989 and parameters: {'num_layers': 2, 'hidden_size': 275, 'dropout': 0.621597924348621, 'learning_rate': 8.574146650831964e-05}. Best is trial 0 with value: 0.6905569239105374.\u001b[0m\n"
          ],
          "name": "stderr"
        },
        {
          "output_type": "stream",
          "text": [
            "4, 4, 0.6929874698522732, 0.691808244601119\n",
            "Dataset loaded\n",
            "Folds loaded\n",
            "Model training begins\n",
            "0, 0, 0.7048049587376264, 0.6932002689157214\n",
            "0, 1, 0.6996688690720773, 0.6910872301276849\n",
            "0, 2, 0.6970820220149293, 0.6905653330744529\n",
            "0, 3, 0.6963304743474844, 0.6901798740941651\n",
            "0, 4, 0.695366596080819, 0.6890276688702253\n",
            "0, 5, 0.6946570094750852, 0.6890700264852874\n",
            "0, 6, 0.693767669249554, 0.6887799270299017\n",
            "0, 7, 0.6934931016698176, 0.688375786859162\n",
            "0, 8, 0.6928081141442669, 0.6879889314271965\n",
            "0, 9, 0.6923752700795933, 0.6875968320029122\n",
            "Dataset loaded\n",
            "Folds loaded\n",
            "Model training begins\n",
            "1, 0, 0.7040918750792556, 0.6927451073012737\n",
            "1, 1, 0.6994903631832289, 0.6913365543999287\n",
            "1, 2, 0.6977700735471264, 0.6908588005889277\n",
            "1, 3, 0.6964260506333771, 0.6901858970985649\n",
            "1, 4, 0.6955462442421765, 0.689926919359598\n",
            "1, 5, 0.6949352240710525, 0.6896246356993728\n",
            "1, 6, 0.6941094083815628, 0.6893258801898601\n",
            "1, 7, 0.693641594107847, 0.6891863916231238\n",
            "1, 8, 0.6930078031113429, 0.6891055414395303\n",
            "1, 9, 0.6926563271084187, 0.6888925418350267\n",
            "Dataset loaded\n",
            "Folds loaded\n",
            "Model training begins\n",
            "2, 0, 0.7021101425346147, 0.692584083121047\n",
            "2, 1, 0.6979867484834459, 0.6914457082748413\n",
            "2, 2, 0.6964137309636825, 0.6912450153603513\n",
            "2, 3, 0.6955461389998085, 0.6906161331213437\n",
            "2, 4, 0.6946039943613558, 0.6904125855519221\n",
            "2, 5, 0.6939949553746444, 0.6901278768339728\n",
            "2, 6, 0.6936059156034746, 0.6898947243507092\n",
            "2, 7, 0.6931753128002851, 0.6900631630013132\n",
            "2, 8, 0.6925510787046872, 0.6897427210441003\n",
            "2, 9, 0.6922015038310972, 0.6895176674056257\n",
            "Dataset loaded\n",
            "Folds loaded\n",
            "Model training begins\n",
            "3, 0, 0.7019231182913627, 0.6931072329321215\n",
            "3, 1, 0.6976866631738601, 0.6916700841919068\n",
            "3, 2, 0.6963347142742526, 0.6915143670574311\n",
            "3, 3, 0.6950063555471359, 0.6909993096705406\n",
            "3, 4, 0.6944045993589586, 0.6908541454422858\n",
            "3, 5, 0.6936701424660221, 0.6904352093896559\n",
            "3, 6, 0.6930420923617578, 0.690411643251296\n",
            "3, 7, 0.6927739081844206, 0.6901963128197578\n",
            "3, 8, 0.692392764360674, 0.6897891496458362\n",
            "3, 9, 0.6920714849425901, 0.6899400205381455\n",
            "Dataset loaded\n",
            "Folds loaded\n",
            "Model training begins\n",
            "4, 0, 0.7009040277621468, 0.6935156617067793\n",
            "4, 1, 0.6972058666539072, 0.6924581476274481\n",
            "4, 2, 0.695458603389372, 0.6925534374520258\n",
            "4, 3, 0.6945688945387826, 0.6920368766724155\n",
            "4, 4, 0.6938563542922741, 0.6919307365332763\n",
            "4, 5, 0.6932602902959446, 0.6915391741065204\n",
            "4, 6, 0.6928710209839235, 0.6915105248465756\n"
          ],
          "name": "stdout"
        },
        {
          "output_type": "stream",
          "text": [
            "\u001b[32m[I 2021-02-20 19:58:56,719]\u001b[0m Trial 4 finished with value: 0.6894613431471952 and parameters: {'num_layers': 3, 'hidden_size': 336, 'dropout': 0.20201528699241103, 'learning_rate': 4.94148370092176e-05}. Best is trial 4 with value: 0.6894613431471952.\u001b[0m\n"
          ],
          "name": "stderr"
        },
        {
          "output_type": "stream",
          "text": [
            "4, 7, 0.6924985141923585, 0.6918567667152676\n",
            "Dataset loaded\n",
            "Folds loaded\n",
            "Model training begins\n",
            "0, 0, 0.7107754678142314, 0.6988998882624567\n",
            "0, 1, 0.7083943735580055, 0.6962297193858088\n",
            "0, 2, 0.7066019803893809, 0.6948040334545836\n",
            "0, 3, 0.7059396116101012, 0.69379209620612\n",
            "0, 4, 0.7045418176115775, 0.6934868589955934\n",
            "0, 5, 0.7039700977656306, 0.6932086506668402\n",
            "0, 6, 0.7029604376578817, 0.6923793493484964\n",
            "0, 7, 0.7026280085651242, 0.6921514747094135\n",
            "0, 8, 0.7026256182972266, 0.6919969454103586\n",
            "0, 9, 0.7021447882360342, 0.6916332944315307\n",
            "Dataset loaded\n",
            "Folds loaded\n",
            "Model training begins\n",
            "1, 0, 0.7162109954016549, 0.6981989363705889\n",
            "1, 1, 0.7108963809398391, 0.696586715508692\n",
            "1, 2, 0.708301081420472, 0.6953851436235889\n",
            "1, 3, 0.7059827972643123, 0.6948129412550363\n",
            "1, 4, 0.7049502782199694, 0.6944724021491057\n",
            "1, 5, 0.70389094226849, 0.6943214420946489\n",
            "1, 6, 0.7035078247141394, 0.6941739968631578\n",
            "1, 7, 0.7023125442658892, 0.6939320208863442\n",
            "1, 8, 0.7020498788134651, 0.6937245015772233\n",
            "1, 9, 0.7014006176350279, 0.6935045578464958\n",
            "Dataset loaded\n",
            "Folds loaded\n",
            "Model training begins\n",
            "2, 0, 0.7082207587539641, 0.6967684697901082\n",
            "2, 1, 0.7053880811247051, 0.6956553823418088\n",
            "2, 2, 0.7034646952763582, 0.6948914561006758\n",
            "2, 3, 0.7025816285202646, 0.6941407575057104\n",
            "2, 4, 0.7013289780698271, 0.6939339146145389\n",
            "2, 5, 0.7007542252540588, 0.693339740873402\n",
            "2, 6, 0.7003419269353915, 0.6930704078613183\n",
            "2, 7, 0.6996869620604392, 0.6927996942630181\n",
            "2, 8, 0.6992878941898673, 0.6926059338272127\n",
            "2, 9, 0.6990287986576048, 0.6924088520881457\n",
            "Dataset loaded\n",
            "Folds loaded\n",
            "Model training begins\n",
            "3, 0, 0.7141541913632423, 0.6980919501473827\n",
            "3, 1, 0.7072409416398694, 0.6962492840905343\n",
            "3, 2, 0.7050767592845425, 0.6955488058828538\n",
            "3, 3, 0.7033753869994994, 0.694856337578066\n",
            "3, 4, 0.7024132707426625, 0.6945294957007131\n",
            "3, 5, 0.7018625263244875, 0.6940649670939292\n",
            "3, 6, 0.7011771267460238, 0.6937142349058582\n",
            "3, 7, 0.7005232636005648, 0.6934854284409554\n",
            "3, 8, 0.7000392773459034, 0.6932757223806073\n",
            "3, 9, 0.6994638794852841, 0.6929535267814513\n",
            "Dataset loaded\n",
            "Folds loaded\n",
            "Model training begins\n",
            "4, 0, 0.7101846844109182, 0.6953900011662905\n",
            "4, 1, 0.7058312614557102, 0.694050661047098\n",
            "4, 2, 0.7037622058754645, 0.6934421059443866\n",
            "4, 3, 0.7026014927074994, 0.6930945750117907\n",
            "4, 4, 0.7014254829302657, 0.6928624760378436\n",
            "4, 5, 0.7006021387080856, 0.6926873931424872\n",
            "4, 6, 0.7001524540373516, 0.6925110370677134\n",
            "4, 7, 0.6993214285313175, 0.6924366456300474\n",
            "4, 8, 0.6990700336882305, 0.6922492971880182\n"
          ],
          "name": "stdout"
        },
        {
          "output_type": "stream",
          "text": [
            "\u001b[32m[I 2021-02-20 20:35:42,624]\u001b[0m Trial 5 finished with value: 0.692525958245459 and parameters: {'num_layers': 3, 'hidden_size': 132, 'dropout': 0.28366687184282247, 'learning_rate': 1.091887995348151e-05}. Best is trial 4 with value: 0.6894613431471952.\u001b[0m\n"
          ],
          "name": "stderr"
        },
        {
          "output_type": "stream",
          "text": [
            "4, 9, 0.6984865653333325, 0.6921295600796714\n",
            "Dataset loaded\n",
            "Folds loaded\n",
            "Model training begins\n",
            "0, 0, 0.7082109895287728, 0.6926346165793282\n",
            "0, 1, 0.7015855008242081, 0.69194559175141\n",
            "0, 2, 0.6984600041593824, 0.6907737534873339\n",
            "0, 3, 0.6963619668872989, 0.6900838370225868\n",
            "0, 4, 0.6948554047516414, 0.6900655675907524\n",
            "0, 5, 0.6936350714187233, 0.6897391670820664\n",
            "0, 6, 0.6927589409205378, 0.6895758345419046\n",
            "0, 7, 0.6922261824413222, 0.6894452419816232\n",
            "0, 8, 0.6915148003977172, 0.689432434889735\n",
            "0, 9, 0.6912972282390205, 0.6893951801621184\n",
            "Dataset loaded\n",
            "Folds loaded\n",
            "Model training begins\n",
            "1, 0, 0.70578927764241, 0.6915555551925802\n",
            "1, 1, 0.6990316684201637, 0.6910365764398753\n",
            "1, 2, 0.6959320602950102, 0.6907354830214696\n",
            "1, 3, 0.6941979397898135, 0.6905509836925483\n",
            "1, 4, 0.6930524940076082, 0.6904556925252358\n",
            "1, 5, 0.6924265171430126, 0.6903383572649512\n",
            "1, 6, 0.6919828897677593, 0.6902828990302471\n",
            "1, 7, 0.691577282751569, 0.6902170229402388\n",
            "1, 8, 0.6913098322678797, 0.690155223659847\n",
            "1, 9, 0.6909626962975686, 0.6900935506228334\n",
            "Dataset loaded\n",
            "Folds loaded\n",
            "Model training begins\n",
            "2, 0, 0.7054940747399615, 0.6929250835862935\n",
            "2, 1, 0.6976093089478648, 0.691982961872704\n",
            "2, 2, 0.6945016789130676, 0.6915335917574728\n",
            "2, 3, 0.6931627130406535, 0.691276164391102\n",
            "2, 4, 0.6925856802198622, 0.6911014629225446\n",
            "2, 5, 0.6920681850523012, 0.6910046028275775\n",
            "2, 6, 0.691827745264412, 0.6909313502474728\n",
            "2, 7, 0.6916483582085015, 0.690849337567631\n",
            "2, 8, 0.691557377576828, 0.6907872832738436\n",
            "2, 9, 0.6913537999503633, 0.690706729124754\n",
            "Dataset loaded\n",
            "Folds loaded\n",
            "Model training begins\n",
            "3, 0, 0.7029042740021982, 0.6925065967344468\n",
            "3, 1, 0.6954499458113025, 0.6917305654095065\n",
            "3, 2, 0.6932834777139848, 0.6913418450663167\n",
            "3, 3, 0.6924429295524475, 0.6911667962228099\n",
            "3, 4, 0.6919745983615998, 0.6909972427352782\n",
            "3, 5, 0.6916810451015349, 0.6909395563986993\n",
            "3, 6, 0.6915360969881857, 0.6908200075549464\n",
            "3, 7, 0.6913839165241488, 0.6907136576790963\n",
            "3, 8, 0.6912619258126905, 0.6906663052497372\n",
            "3, 9, 0.6912170444765399, 0.6905848587712934\n",
            "Dataset loaded\n",
            "Folds loaded\n",
            "Model training begins\n",
            "4, 0, 0.7015370230384285, 0.692366964320846\n",
            "4, 1, 0.6945633773271203, 0.6919769482866762\n",
            "4, 2, 0.6928237032164172, 0.6918386346495091\n",
            "4, 3, 0.6922956009201592, 0.6917168557038768\n",
            "4, 4, 0.6920303784046077, 0.6916928371499638\n",
            "4, 5, 0.6918178863331751, 0.6915481055751065\n",
            "4, 6, 0.6916881436623897, 0.6914849187516924\n",
            "4, 7, 0.6915944873681529, 0.6913907246541251\n",
            "4, 8, 0.6914926693221639, 0.6913360198439681\n"
          ],
          "name": "stdout"
        },
        {
          "output_type": "stream",
          "text": [
            "\u001b[32m[I 2021-02-20 21:13:39,577]\u001b[0m Trial 6 finished with value: 0.6904103995462851 and parameters: {'num_layers': 2, 'hidden_size': 90, 'dropout': 0.4096694945725874, 'learning_rate': 0.00024146394664000459}. Best is trial 4 with value: 0.6894613431471952.\u001b[0m\n"
          ],
          "name": "stderr"
        },
        {
          "output_type": "stream",
          "text": [
            "4, 9, 0.6914467903865775, 0.6912716790504262\n",
            "Dataset loaded\n",
            "Folds loaded\n",
            "Model training begins\n",
            "0, 0, 0.7261203156442059, 0.7241943831346473\n",
            "0, 1, 0.7214140186504442, 0.7178131664285854\n",
            "0, 2, 0.718271653871147, 0.7129568281222363\n",
            "0, 3, 0.7151787603388027, 0.7092646561106857\n",
            "0, 4, 0.712822322334562, 0.706165532676541\n",
            "0, 5, 0.7119552821529155, 0.7036603695275833\n",
            "0, 6, 0.7098288079913782, 0.7018720027135343\n",
            "0, 7, 0.7098820331145306, 0.7004393910875126\n",
            "0, 8, 0.7085669959078029, 0.699302077293396\n",
            "0, 9, 0.7078411074317231, 0.6981779379504067\n",
            "Dataset loaded\n",
            "Folds loaded\n",
            "Model training begins\n",
            "1, 0, 0.7181906555750355, 0.7016008814669544\n",
            "1, 1, 0.7140487043753915, 0.6990453064071466\n",
            "1, 2, 0.7121970257403688, 0.6975118928814527\n",
            "1, 3, 0.7105604399065053, 0.6964803223284135\n",
            "1, 4, 0.7091552515207611, 0.6959211389470544\n",
            "1, 5, 0.7087581109556352, 0.6953128080190338\n",
            "1, 6, 0.7079286353188272, 0.6949242149820979\n",
            "1, 7, 0.7072779225266498, 0.694500842449828\n",
            "1, 8, 0.7064839931008238, 0.6942198128433701\n",
            "1, 9, 0.7060989433934229, 0.6939401489607295\n",
            "Dataset loaded\n",
            "Folds loaded\n",
            "Model training begins\n",
            "2, 0, 0.7108675626098601, 0.7013923653170594\n",
            "2, 1, 0.7092818964240898, 0.6989825034243429\n",
            "2, 2, 0.707956338285381, 0.6974623065728408\n",
            "2, 3, 0.7071971088393122, 0.696374796394609\n",
            "2, 4, 0.7063900194106958, 0.6957396920929607\n",
            "2, 5, 0.705590115653144, 0.695246284079348\n",
            "2, 6, 0.7057040022988604, 0.6949211323363149\n",
            "2, 7, 0.7056854081968976, 0.694643424362199\n",
            "2, 8, 0.7047167051042247, 0.6944609264023284\n",
            "2, 9, 0.7048074126753032, 0.6942695674733219\n",
            "Dataset loaded\n",
            "Folds loaded\n",
            "Model training begins\n",
            "3, 0, 0.7145406248108033, 0.7028944480803705\n",
            "3, 1, 0.7109568928518603, 0.69910025808119\n",
            "3, 2, 0.708883055563896, 0.697258448408496\n",
            "3, 3, 0.7071463329176749, 0.6961604958580386\n",
            "3, 4, 0.7068694258889844, 0.695423012971878\n",
            "3, 5, 0.7059569522257774, 0.6949447353040018\n",
            "3, 6, 0.7056564417577559, 0.6947148542250356\n",
            "3, 7, 0.7053080691445258, 0.6943625132883748\n",
            "3, 8, 0.7047392945135793, 0.6941283387522543\n",
            "3, 9, 0.7044371787578829, 0.6939735110728972\n",
            "Dataset loaded\n",
            "Folds loaded\n",
            "Model training begins\n",
            "4, 0, 0.7109671008163297, 0.699367413363481\n",
            "4, 1, 0.7086324169853617, 0.6978862751558953\n",
            "4, 2, 0.7075928891370744, 0.696926750053609\n",
            "4, 3, 0.7066418708581005, 0.6962259758244916\n",
            "4, 4, 0.7060573337041787, 0.695688010926174\n",
            "4, 5, 0.7055233075534026, 0.695264526732682\n",
            "4, 6, 0.7050573874246046, 0.6949304750728124\n",
            "4, 7, 0.7045929902398647, 0.6945866828945082\n",
            "4, 8, 0.7041183878019982, 0.694332095572186\n"
          ],
          "name": "stdout"
        },
        {
          "output_type": "stream",
          "text": [
            "\u001b[32m[I 2021-02-20 21:51:03,772]\u001b[0m Trial 7 finished with value: 0.6948918532106045 and parameters: {'num_layers': 2, 'hidden_size': 438, 'dropout': 0.28919384887382393, 'learning_rate': 1.0963895215599248e-06}. Best is trial 4 with value: 0.6894613431471952.\u001b[0m\n"
          ],
          "name": "stderr"
        },
        {
          "output_type": "stream",
          "text": [
            "4, 9, 0.7039281291707518, 0.6940981005956679\n",
            "Dataset loaded\n",
            "Folds loaded\n",
            "Model training begins\n",
            "0, 0, 0.7131245963427485, 0.6913726524430879\n",
            "0, 1, 0.7001157926053417, 0.6911732037456668\n",
            "0, 2, 0.695426628297689, 0.6908193784100669\n",
            "0, 3, 0.6933160558038828, 0.6904465720361593\n",
            "0, 4, 0.6923333035439861, 0.6902550556221787\n",
            "0, 5, 0.6916733511856624, 0.6899756545923195\n",
            "0, 6, 0.6912391252663671, 0.6898329233636662\n",
            "0, 7, 0.6909304328110754, 0.6896867478380397\n",
            "0, 8, 0.6907849476045492, 0.689581784666801\n",
            "0, 9, 0.6904332923645876, 0.6894532606309774\n",
            "Dataset loaded\n",
            "Folds loaded\n",
            "Model training begins\n",
            "1, 0, 0.7068014996392387, 0.6937266936213333\n",
            "1, 1, 0.6963604059278595, 0.6920210485873015\n",
            "1, 2, 0.6934406872121444, 0.6916408905331393\n",
            "1, 3, 0.6923739410335232, 0.691365250889559\n",
            "1, 4, 0.69181272739209, 0.6910226589404278\n",
            "1, 5, 0.6915495884344445, 0.6908608978579504\n",
            "1, 6, 0.6913097796973234, 0.6907175886705055\n",
            "1, 7, 0.6912568885347118, 0.6905815501390777\n",
            "1, 8, 0.691004863066703, 0.6904263418653737\n",
            "1, 9, 0.6909075538564172, 0.6903712423691838\n",
            "Dataset loaded\n",
            "Folds loaded\n",
            "Model training begins\n",
            "2, 0, 0.7046031006890484, 0.6924337604616442\n",
            "2, 1, 0.6945494729229528, 0.6920641739653726\n",
            "2, 2, 0.6929426116821094, 0.6918326753836411\n",
            "2, 3, 0.6923192920338395, 0.6915953793586829\n",
            "2, 4, 0.6921107440422742, 0.6914031658417139\n",
            "2, 5, 0.6918362712758219, 0.6912631794937656\n",
            "2, 6, 0.6917007377005031, 0.691097005819663\n",
            "2, 7, 0.6915397045449314, 0.6910184285579584\n",
            "2, 8, 0.6914276355861598, 0.6909161120907873\n",
            "2, 9, 0.6912699219508048, 0.6907837416371728\n",
            "Dataset loaded\n",
            "Folds loaded\n",
            "Model training begins\n",
            "3, 0, 0.7029537681610354, 0.6922774455239696\n",
            "3, 1, 0.6933805971376358, 0.6918120566875704\n",
            "3, 2, 0.6923399090766906, 0.6915082504672388\n",
            "3, 3, 0.6919610231153427, 0.6912378639944138\n",
            "3, 4, 0.6918571591377258, 0.6910906387913611\n",
            "3, 5, 0.6916190122404406, 0.6909111219067727\n",
            "3, 6, 0.6915136610308001, 0.6908536557228334\n",
            "3, 7, 0.6913979928339681, 0.6907650532261018\n",
            "3, 8, 0.6912616658595301, 0.6906340412555202\n",
            "3, 9, 0.6911744283091638, 0.6905492236537318\n",
            "Dataset loaded\n",
            "Folds loaded\n",
            "Model training begins\n",
            "4, 0, 0.700504813248736, 0.6932342336867666\n",
            "4, 1, 0.6930104495607657, 0.693028004944022\n",
            "4, 2, 0.6924057369909916, 0.6927029838416782\n",
            "4, 3, 0.692210765205664, 0.6926140715628106\n",
            "4, 4, 0.6920326877063906, 0.6924801192005273\n",
            "4, 5, 0.691855169946167, 0.6923345101968891\n",
            "4, 6, 0.6917333256472186, 0.6921763848229713\n",
            "4, 7, 0.6916272127386277, 0.6920829451628748\n",
            "4, 8, 0.6915861651074463, 0.6920809721583643\n"
          ],
          "name": "stdout"
        },
        {
          "output_type": "stream",
          "text": [
            "\u001b[32m[I 2021-02-20 22:28:07,871]\u001b[0m Trial 8 finished with value: 0.6906097515791125 and parameters: {'num_layers': 3, 'hidden_size': 207, 'dropout': 0.5460692690641846, 'learning_rate': 0.000369120449036248}. Best is trial 4 with value: 0.6894613431471952.\u001b[0m\n"
          ],
          "name": "stderr"
        },
        {
          "output_type": "stream",
          "text": [
            "4, 9, 0.6914790548043808, 0.6918912896044969\n",
            "Dataset loaded\n",
            "Folds loaded\n",
            "Model training begins\n",
            "0, 0, 0.7036668366315414, 0.6935818049372459\n",
            "0, 1, 0.6976624112956378, 0.6915973528307311\n",
            "0, 2, 0.6957718152172712, 0.6906720673551365\n",
            "0, 3, 0.6939752813504667, 0.690234007884045\n",
            "0, 4, 0.6935806085868758, 0.6898201935145319\n",
            "0, 5, 0.6926122113149993, 0.6896167166379034\n",
            "0, 6, 0.6920616912598513, 0.6895606882718145\n",
            "0, 7, 0.6916561832233351, 0.6894211361602861\n",
            "0, 8, 0.691410801240376, 0.6893303491631333\n",
            "0, 9, 0.6910170049083476, 0.6892916700061487\n",
            "Dataset loaded\n",
            "Folds loaded\n",
            "Model training begins\n",
            "1, 0, 0.7057050251812669, 0.6935625861150138\n",
            "1, 1, 0.6987977064914584, 0.69230398109981\n",
            "1, 2, 0.6962454763258467, 0.691611289237597\n",
            "1, 3, 0.6943518382421932, 0.6913191224477306\n",
            "1, 4, 0.6935414879218392, 0.6910418072102232\n",
            "1, 5, 0.6928437740906425, 0.6908758501088397\n",
            "1, 6, 0.6924868574053604, 0.6908204388914642\n",
            "1, 7, 0.6919871224379688, 0.690694915211719\n",
            "1, 8, 0.6917359851161886, 0.6906491340317341\n",
            "1, 9, 0.6915560475787761, 0.6906125019796147\n",
            "Dataset loaded\n",
            "Folds loaded\n",
            "Model training begins\n",
            "2, 0, 0.7009253868689904, 0.6928417517079247\n",
            "2, 1, 0.6952285328481951, 0.6917871463502574\n",
            "2, 2, 0.693611203860014, 0.6913922036814893\n",
            "2, 3, 0.6927534278131958, 0.6912251267677698\n",
            "2, 4, 0.6923006992054801, 0.6911126186705043\n",
            "2, 5, 0.6920005523750925, 0.6910618288904173\n",
            "2, 6, 0.691733971110776, 0.6910019239299318\n",
            "2, 7, 0.6915982281550382, 0.6909505564432877\n",
            "2, 8, 0.6915570281000218, 0.6909045620351775\n",
            "2, 9, 0.6914804618582766, 0.6908543588768723\n",
            "Dataset loaded\n",
            "Folds loaded\n",
            "Model training begins\n",
            "3, 0, 0.7023527318431485, 0.6928498120077194\n",
            "3, 1, 0.6959103655430579, 0.6915632363288633\n",
            "3, 2, 0.6937332939717078, 0.6912482644281079\n",
            "3, 3, 0.6928434923771889, 0.6911181148021451\n",
            "3, 4, 0.6923255960787497, 0.6910305853812925\n",
            "3, 5, 0.691958478766103, 0.690945670681615\n",
            "3, 6, 0.6917032841713198, 0.6908642293945435\n",
            "3, 7, 0.6916104505139012, 0.6908205245771716\n",
            "3, 8, 0.6913958797531743, 0.6907668703986752\n",
            "3, 9, 0.6912881633927745, 0.6907102617525285\n",
            "Dataset loaded\n",
            "Folds loaded\n",
            "Model training begins\n",
            "4, 0, 0.7050196050387348, 0.6930606911327634\n",
            "4, 1, 0.6956162967052556, 0.691825537512145\n",
            "4, 2, 0.6935632514772077, 0.6915541670951747\n",
            "4, 3, 0.6926333244681964, 0.6914384026212741\n",
            "4, 4, 0.6921892830260514, 0.6913928182294526\n",
            "4, 5, 0.6919660745235869, 0.691358549643289\n"
          ],
          "name": "stdout"
        }
      ]
    },
    {
      "cell_type": "code",
      "metadata": {
        "colab": {
          "base_uri": "https://localhost:8080/",
          "height": 186
        },
        "id": "WMuzOmwk7G_i",
        "outputId": "6497e3b1-3aa5-4fd8-f770-2f0926e7838d"
      },
      "source": [
        "print(trial_.values)\n",
        "print(trial_.params)"
      ],
      "execution_count": null,
      "outputs": [
        {
          "output_type": "error",
          "ename": "NameError",
          "evalue": "ignored",
          "traceback": [
            "\u001b[0;31m---------------------------------------------------------------------------\u001b[0m",
            "\u001b[0;31mNameError\u001b[0m                                 Traceback (most recent call last)",
            "\u001b[0;32m<ipython-input-1-099c3d3a4a5e>\u001b[0m in \u001b[0;36m<module>\u001b[0;34m()\u001b[0m\n\u001b[0;32m----> 1\u001b[0;31m \u001b[0mprint\u001b[0m\u001b[0;34m(\u001b[0m\u001b[0mtrial_\u001b[0m\u001b[0;34m.\u001b[0m\u001b[0mvalues\u001b[0m\u001b[0;34m)\u001b[0m\u001b[0;34m\u001b[0m\u001b[0;34m\u001b[0m\u001b[0m\n\u001b[0m\u001b[1;32m      2\u001b[0m \u001b[0mprint\u001b[0m\u001b[0;34m(\u001b[0m\u001b[0mtrial_\u001b[0m\u001b[0;34m.\u001b[0m\u001b[0mparams\u001b[0m\u001b[0;34m)\u001b[0m\u001b[0;34m\u001b[0m\u001b[0;34m\u001b[0m\u001b[0m\n",
            "\u001b[0;31mNameError\u001b[0m: name 'trial_' is not defined"
          ]
        }
      ]
    },
    {
      "cell_type": "markdown",
      "metadata": {
        "id": "NxgjCTAAPhn6"
      },
      "source": [
        "Train individual model"
      ]
    },
    {
      "cell_type": "code",
      "metadata": {
        "colab": {
          "base_uri": "https://localhost:8080/"
        },
        "id": "KYvHmP_dPkjh",
        "outputId": "cf574307-40c2-488e-b5b4-760ea1e648ce"
      },
      "source": [
        "params = {'num_layers': 3, 'hidden_size': 336, 'dropout': 0.20201528699241103, 'learning_rate': 4.94148370092176e-05}\n",
        "\n",
        "scores = 0\n",
        "for j in range(5):\n",
        "    scr = run_training(j, params, save_model=True)\n",
        "    scores+=scr\n",
        "\n",
        "print(scores/5)"
      ],
      "execution_count": null,
      "outputs": [
        {
          "output_type": "stream",
          "text": [
            "Dataset loaded\n",
            "Folds loaded\n",
            "Model training begins\n",
            "0, 0, 0.7052482536860875, 0.6920889774147345\n",
            "0, 1, 0.6950483164008783, 0.6912245884233591\n",
            "0, 2, 0.692166198881305, 0.69032499011682\n",
            "0, 3, 0.6914172464487504, 0.690012742670215\n",
            "0, 4, 0.6909937481490933, 0.689810322863715\n",
            "0, 5, 0.6905289067297565, 0.6896148019907425\n",
            "0, 6, 0.6903887974972628, 0.6894238773657351\n",
            "0, 7, 0.6902807805002952, 0.6892712438593105\n",
            "0, 8, 0.6899256408214569, 0.6891119498379377\n",
            "0, 9, 0.6897813562227755, 0.6889638712211531\n",
            "0, 10, 0.689646800561827, 0.68883387531553\n",
            "0, 11, 0.6895597589259245, 0.6886984784992374\n",
            "0, 12, 0.689414489634183, 0.6887135815863706\n",
            "0, 13, 0.6889850253961525, 0.6885066993382513\n",
            "0, 14, 0.6888341861111777, 0.6884232169511367\n",
            "0, 15, 0.688794342838988, 0.6885153158586852\n",
            "0, 16, 0.6885442879735207, 0.6882855423859188\n",
            "0, 17, 0.6884289487284057, 0.6881188087317408\n",
            "0, 18, 0.6881218382290432, 0.6882034102264716\n",
            "0, 19, 0.6879448215572201, 0.6880252197080728\n",
            "0, 20, 0.6877479334266818, 0.6879950019778037\n",
            "0, 21, 0.6876058243975347, 0.6878334156104496\n",
            "0, 22, 0.6873909843211271, 0.6875470913186366\n",
            "0, 23, 0.6872009276127329, 0.6877882748234029\n",
            "0, 24, 0.6869545183619674, 0.6876318375675046\n",
            "0, 25, 0.6868134335595735, 0.687218147881177\n",
            "0, 26, 0.6865093410015106, 0.6873952016538504\n",
            "Dataset loaded\n",
            "Folds loaded\n",
            "Model training begins\n",
            "1, 0, 0.7018352195342875, 0.6933006603525292\n",
            "1, 1, 0.6935148801862824, 0.6912762596740486\n",
            "1, 2, 0.6921172782501078, 0.6909001080886178\n",
            "1, 3, 0.6917543774065764, 0.6905829836122738\n",
            "1, 4, 0.6914224731996192, 0.6903098584702296\n",
            "1, 5, 0.6911996403095885, 0.6903189813128169\n",
            "1, 6, 0.6909489794547513, 0.6899884805916259\n",
            "1, 7, 0.6907726007959117, 0.6898703693603137\n",
            "1, 8, 0.6904963821357821, 0.6897507783789072\n",
            "1, 9, 0.6903641231311775, 0.6895414109555831\n",
            "1, 10, 0.690129230111282, 0.6894560689511506\n",
            "1, 11, 0.6900831575719466, 0.689301470051641\n",
            "1, 12, 0.6898327162547141, 0.6892032049457479\n",
            "1, 13, 0.6896141438010317, 0.6890739757822167\n",
            "1, 14, 0.6895479223002559, 0.6890499351187522\n",
            "1, 15, 0.6894033717812958, 0.6889329626693489\n",
            "1, 16, 0.6891837579122981, 0.6887551612735535\n",
            "1, 17, 0.6889633277188176, 0.688710848366992\n",
            "1, 18, 0.6888957005109846, 0.6886690399661568\n",
            "1, 19, 0.6887015974299507, 0.6886299515362853\n",
            "1, 20, 0.6885783050371252, 0.688519264970507\n",
            "1, 21, 0.6884782869623315, 0.6884667799339531\n",
            "1, 22, 0.6883015280924969, 0.6884877529943952\n",
            "1, 23, 0.6882331597138636, 0.6882680228778294\n",
            "1, 24, 0.6879577670038116, 0.6882230528393147\n",
            "1, 25, 0.6878189959141038, 0.6881953929522022\n",
            "1, 26, 0.6875874348308729, 0.6880998737323358\n",
            "1, 27, 0.6875725151589198, 0.6879272783024711\n",
            "1, 28, 0.6874897072774283, 0.6879508180647903\n",
            "1, 29, 0.6872773129747521, 0.6877919009753636\n",
            "1, 30, 0.6872168127794444, 0.6877913800825984\n",
            "1, 31, 0.6870831154888462, 0.6875170332304439\n",
            "1, 32, 0.6870082253995149, 0.6875780495057194\n",
            "1, 33, 0.6867031788233644, 0.6875697948177408\n",
            "1, 34, 0.6867013651391735, 0.6874698278326425\n",
            "1, 35, 0.6865569138378831, 0.6873635016613125\n",
            "1, 36, 0.6862959106516394, 0.6874252628095402\n",
            "Dataset loaded\n",
            "Folds loaded\n",
            "Model training begins\n",
            "2, 0, 0.6982842974173717, 0.6919459293031285\n",
            "2, 1, 0.6926327087940314, 0.6913881098103319\n",
            "2, 2, 0.6920875180990268, 0.691267033163299\n",
            "2, 3, 0.6918054834390298, 0.691171715911637\n",
            "2, 4, 0.6916027545419514, 0.6909391831638466\n",
            "2, 5, 0.6913977558286781, 0.690909827621574\n",
            "2, 6, 0.6912238478151143, 0.6908123982258332\n",
            "2, 7, 0.6911507615676293, 0.6906594858210311\n",
            "2, 8, 0.691008084350162, 0.6906259217832842\n",
            "2, 9, 0.6908530735561991, 0.6904781977845054\n",
            "2, 10, 0.6908083777142386, 0.6904967559708489\n",
            "2, 11, 0.6906844683182545, 0.6903751515425168\n",
            "2, 12, 0.6905164858724318, 0.6902796745809734\n",
            "2, 13, 0.6904029904777168, 0.6903091289548793\n",
            "2, 14, 0.6902957841371878, 0.6903717739459796\n",
            "2, 15, 0.6901337687785809, 0.6902542014916738\n",
            "2, 16, 0.6901730831362244, 0.6903114109976679\n",
            "2, 17, 0.6899152456695198, 0.6900629118466989\n",
            "2, 18, 0.6897718473377391, 0.6899093639137398\n",
            "2, 19, 0.6896981915347596, 0.6898730231655968\n",
            "2, 20, 0.6895464763172672, 0.6897379274551685\n",
            "2, 21, 0.6894025150527302, 0.689588650678977\n",
            "2, 22, 0.6893577061147771, 0.6895786544196626\n",
            "2, 23, 0.6892228157092364, 0.6894066389809307\n",
            "2, 24, 0.6890009651836168, 0.6892077265641628\n",
            "2, 25, 0.6888617524224468, 0.6891157143136375\n",
            "2, 26, 0.6889323357842926, 0.6891687209280128\n",
            "2, 27, 0.6887406576902438, 0.6890343802097516\n",
            "2, 28, 0.6885888757359269, 0.6889381403596992\n",
            "2, 29, 0.688453566060107, 0.6886003529414152\n",
            "2, 30, 0.6883409351874621, 0.6886681145073003\n",
            "Dataset loaded\n",
            "Folds loaded\n",
            "Model training begins\n",
            "3, 0, 0.6982608820161512, 0.6923973175787157\n",
            "3, 1, 0.6924998908273635, 0.6917707372096277\n",
            "3, 2, 0.6920119270201652, 0.6913493264106012\n",
            "3, 3, 0.691760596921367, 0.6911660944261858\n",
            "3, 4, 0.6915854884732154, 0.6910729539009832\n",
            "3, 5, 0.6913468705069634, 0.6910081855712399\n",
            "3, 6, 0.6912426875483605, 0.6908560241422346\n",
            "3, 7, 0.6910441487066208, 0.6906976319128467\n",
            "3, 8, 0.6909644051905601, 0.6905057524481127\n",
            "3, 9, 0.690833435327776, 0.6903552728314554\n",
            "3, 10, 0.6907756545851308, 0.690399331431235\n",
            "3, 11, 0.690659700862823, 0.690391137907582\n",
            "3, 12, 0.6905493507462163, 0.6905565619468689\n",
            "3, 13, 0.6904870542787737, 0.6900402701670124\n",
            "3, 14, 0.6903449756483878, 0.6900772248545001\n",
            "3, 15, 0.6902870059013366, 0.6900781221928135\n",
            "3, 16, 0.6901546086034467, 0.6900023189283186\n",
            "3, 17, 0.6900041474450019, 0.6899089484445511\n",
            "3, 18, 0.689975905610669, 0.68995625165201\n",
            "Dataset loaded\n",
            "Folds loaded\n",
            "Model training begins\n",
            "4, 0, 0.6968283441466123, 0.6935442109700992\n",
            "4, 1, 0.6925477561006691, 0.6931266872410847\n",
            "4, 2, 0.6921676722577381, 0.6929164317053587\n",
            "4, 3, 0.691973898616539, 0.6930364927059502\n",
            "4, 4, 0.6918142872110842, 0.6926459514247585\n",
            "4, 5, 0.6916851663044866, 0.6924095052450442\n",
            "4, 6, 0.691561736128657, 0.6920427698169263\n",
            "4, 7, 0.6914219202729046, 0.6917662033574835\n",
            "4, 8, 0.6913439528591137, 0.6915087979759662\n",
            "4, 9, 0.6912785060514653, 0.6912764502963439\n",
            "4, 10, 0.691170481104536, 0.6911895344705146\n",
            "4, 11, 0.6910668968549235, 0.6911545190109214\n",
            "4, 12, 0.690981877182946, 0.6910427265663437\n",
            "4, 13, 0.6908691519408057, 0.6910385250440104\n",
            "4, 14, 0.6908321003925982, 0.69095076295325\n",
            "4, 15, 0.6906699476205758, 0.6908388944144176\n",
            "4, 16, 0.6905952118677536, 0.690804360632969\n",
            "4, 17, 0.6904940455395558, 0.6906950729449993\n",
            "4, 18, 0.690491366658719, 0.6906612780190966\n",
            "4, 19, 0.6903010768636229, 0.6905652920001655\n",
            "4, 20, 0.6902649257388817, 0.6904697121702476\n",
            "4, 21, 0.6902056964218314, 0.6903695896797374\n",
            "4, 22, 0.6900938298496498, 0.6903879141747044\n",
            "4, 23, 0.6900123669411325, 0.6902783904886488\n",
            "4, 24, 0.6899660781857931, 0.6902581858755973\n",
            "4, 25, 0.6898888267841435, 0.6901470940125171\n",
            "4, 26, 0.6897506223717317, 0.6900955686714444\n",
            "4, 27, 0.6897016135871713, 0.6900260911375133\n",
            "4, 28, 0.6895990205295195, 0.6900054626355921\n",
            "4, 29, 0.6894948160285272, 0.6898362612361231\n",
            "4, 30, 0.689435303362493, 0.6898533051389123\n",
            "4, 31, 0.6893358949174736, 0.6898055286879466\n",
            "4, 32, 0.6892500897954563, 0.6898471139711777\n",
            "4, 33, 0.6891605431960924, 0.6896634449813571\n",
            "4, 34, 0.6891082796045971, 0.6895243552735615\n",
            "4, 35, 0.6890246154088054, 0.6895836336055988\n",
            "4, 36, 0.6889059517891879, 0.6894344519540138\n",
            "4, 37, 0.6889081010358588, 0.689401841859527\n",
            "4, 38, 0.6888046759336733, 0.6893559372062006\n",
            "4, 39, 0.6886634861454746, 0.6893213255151274\n",
            "4, 40, 0.688625746723359, 0.6892848907388406\n",
            "4, 41, 0.6885443116505134, 0.6892414329015664\n",
            "4, 42, 0.6884607081183323, 0.6891636390068809\n",
            "4, 43, 0.6884342144588529, 0.6890846944702458\n",
            "4, 44, 0.6882344025948326, 0.6890680025979347\n",
            "4, 45, 0.6882101189969155, 0.6889415720695167\n",
            "4, 46, 0.6880851794923017, 0.688838713665299\n",
            "4, 47, 0.6880614958741338, 0.6888691100674837\n",
            "0.688385932918751\n"
          ],
          "name": "stdout"
        }
      ]
    },
    {
      "cell_type": "code",
      "metadata": {
        "id": "MQG9Pkm4RqD5"
      },
      "source": [
        ""
      ],
      "execution_count": null,
      "outputs": []
    }
  ]
}