{
 "cells": [
  {
   "cell_type": "markdown",
   "execution_count": null,
   "metadata": {
    "papermill": {
     "duration": 0.017358,
     "end_time": "2020-08-24T00:15:40.688115",
     "exception": false,
     "start_time": "2020-08-24T00:15:40.670757",
     "status": "completed"
    },
    "tags": []
   },
   "source": [
    "**[Intermediate Machine Learning Home Page](https://www.kaggle.com/learn/intermediate-machine-learning)**\n",
    "\n",
    "---\n"
   ]
  },
  {
   "cell_type": "markdown",
   "execution_count": null,
   "metadata": {
    "papermill": {
     "duration": 0.013252,
     "end_time": "2020-08-24T00:15:40.715761",
     "exception": false,
     "start_time": "2020-08-24T00:15:40.702509",
     "status": "completed"
    },
    "tags": []
   },
   "source": [
    "Now it's your turn to test your new knowledge of **missing values** handling. You'll probably find it makes a big difference.\n",
    "\n",
    "# Setup\n",
    "\n",
    "The questions will give you feedback on your work. Run the following cell to set up the feedback system."
   ]
  },
  {
   "cell_type": "code",
   "execution_count": 1,
   "metadata": {
    "execution": {
     "iopub.execute_input": "2020-08-24T00:15:40.755085Z",
     "iopub.status.busy": "2020-08-24T00:15:40.754114Z",
     "iopub.status.idle": "2020-08-24T00:15:40.825817Z",
     "shell.execute_reply": "2020-08-24T00:15:40.824820Z"
    },
    "papermill": {
     "duration": 0.093647,
     "end_time": "2020-08-24T00:15:40.825981",
     "exception": false,
     "start_time": "2020-08-24T00:15:40.732334",
     "status": "completed"
    },
    "tags": []
   },
   "outputs": [
    {
     "name": "stdout",
     "output_type": "stream",
     "text": [
      "Setup Complete\n"
     ]
    }
   ],
   "source": [
    "# Set up code checking\n",
    "import os\n",
    "if not os.path.exists(\"../input/train.csv\"):\n",
    "    os.symlink(\"../input/home-data-for-ml-course/train.csv\", \"../input/train.csv\")  \n",
    "    os.symlink(\"../input/home-data-for-ml-course/test.csv\", \"../input/test.csv\") \n",
    "from learntools.core import binder\n",
    "binder.bind(globals())\n",
    "from learntools.ml_intermediate.ex2 import *\n",
    "print(\"Setup Complete\")"
   ]
  },
  {
   "cell_type": "markdown",
   "execution_count": null,
   "metadata": {
    "papermill": {
     "duration": 0.01252,
     "end_time": "2020-08-24T00:15:40.851736",
     "exception": false,
     "start_time": "2020-08-24T00:15:40.839216",
     "status": "completed"
    },
    "tags": []
   },
   "source": [
    "In this exercise, you will work with data from the [Housing Prices Competition for Kaggle Learn Users](https://www.kaggle.com/c/home-data-for-ml-course). \n",
    "\n",
    "![Ames Housing dataset image](https://i.imgur.com/lTJVG4e.png)\n",
    "\n",
    "Run the next code cell without changes to load the training and validation sets in `X_train`, `X_valid`, `y_train`, and `y_valid`.  The test set is loaded in `X_test`."
   ]
  },
  {
   "cell_type": "code",
   "execution_count": 2,
   "metadata": {
    "execution": {
     "iopub.execute_input": "2020-08-24T00:15:40.888937Z",
     "iopub.status.busy": "2020-08-24T00:15:40.887194Z",
     "iopub.status.idle": "2020-08-24T00:15:42.666846Z",
     "shell.execute_reply": "2020-08-24T00:15:42.664864Z"
    },
    "papermill": {
     "duration": 1.802336,
     "end_time": "2020-08-24T00:15:42.667149",
     "exception": false,
     "start_time": "2020-08-24T00:15:40.864813",
     "status": "completed"
    },
    "tags": []
   },
   "outputs": [],
   "source": [
    "import pandas as pd\n",
    "from sklearn.model_selection import train_test_split\n",
    "\n",
    "# Read the data\n",
    "X_full = pd.read_csv('../input/train.csv', index_col='Id')\n",
    "X_test_full = pd.read_csv('../input/test.csv', index_col='Id')\n",
    "\n",
    "# Remove rows with missing target, separate target from predictors\n",
    "X_full.dropna(axis=0, subset=['SalePrice'], inplace=True)\n",
    "y = X_full.SalePrice\n",
    "X_full.drop(['SalePrice'], axis=1, inplace=True)\n",
    "\n",
    "# To keep things simple, we'll use only numerical predictors\n",
    "X = X_full.select_dtypes(exclude=['object'])\n",
    "X_test = X_test_full.select_dtypes(exclude=['object'])\n",
    "\n",
    "# Break off validation set from training data\n",
    "X_train, X_valid, y_train, y_valid = train_test_split(X, y, train_size=0.8, test_size=0.2,\n",
    "                                                      random_state=0)"
   ]
  },
  {
   "cell_type": "markdown",
   "execution_count": null,
   "metadata": {
    "papermill": {
     "duration": 0.016909,
     "end_time": "2020-08-24T00:15:42.704432",
     "exception": false,
     "start_time": "2020-08-24T00:15:42.687523",
     "status": "completed"
    },
    "tags": []
   },
   "source": [
    "Use the next code cell to print the first five rows of the data."
   ]
  },
  {
   "cell_type": "code",
   "execution_count": 3,
   "metadata": {
    "execution": {
     "iopub.execute_input": "2020-08-24T00:15:42.755475Z",
     "iopub.status.busy": "2020-08-24T00:15:42.754659Z",
     "iopub.status.idle": "2020-08-24T00:15:42.780790Z",
     "shell.execute_reply": "2020-08-24T00:15:42.781447Z"
    },
    "papermill": {
     "duration": 0.063648,
     "end_time": "2020-08-24T00:15:42.781634",
     "exception": false,
     "start_time": "2020-08-24T00:15:42.717986",
     "status": "completed"
    },
    "tags": []
   },
   "outputs": [
    {
     "data": {
      "text/html": [
       "<div>\n",
       "<style scoped>\n",
       "    .dataframe tbody tr th:only-of-type {\n",
       "        vertical-align: middle;\n",
       "    }\n",
       "\n",
       "    .dataframe tbody tr th {\n",
       "        vertical-align: top;\n",
       "    }\n",
       "\n",
       "    .dataframe thead th {\n",
       "        text-align: right;\n",
       "    }\n",
       "</style>\n",
       "<table border=\"1\" class=\"dataframe\">\n",
       "  <thead>\n",
       "    <tr style=\"text-align: right;\">\n",
       "      <th></th>\n",
       "      <th>MSSubClass</th>\n",
       "      <th>LotFrontage</th>\n",
       "      <th>LotArea</th>\n",
       "      <th>OverallQual</th>\n",
       "      <th>OverallCond</th>\n",
       "      <th>YearBuilt</th>\n",
       "      <th>YearRemodAdd</th>\n",
       "      <th>MasVnrArea</th>\n",
       "      <th>BsmtFinSF1</th>\n",
       "      <th>BsmtFinSF2</th>\n",
       "      <th>...</th>\n",
       "      <th>GarageArea</th>\n",
       "      <th>WoodDeckSF</th>\n",
       "      <th>OpenPorchSF</th>\n",
       "      <th>EnclosedPorch</th>\n",
       "      <th>3SsnPorch</th>\n",
       "      <th>ScreenPorch</th>\n",
       "      <th>PoolArea</th>\n",
       "      <th>MiscVal</th>\n",
       "      <th>MoSold</th>\n",
       "      <th>YrSold</th>\n",
       "    </tr>\n",
       "    <tr>\n",
       "      <th>Id</th>\n",
       "      <th></th>\n",
       "      <th></th>\n",
       "      <th></th>\n",
       "      <th></th>\n",
       "      <th></th>\n",
       "      <th></th>\n",
       "      <th></th>\n",
       "      <th></th>\n",
       "      <th></th>\n",
       "      <th></th>\n",
       "      <th></th>\n",
       "      <th></th>\n",
       "      <th></th>\n",
       "      <th></th>\n",
       "      <th></th>\n",
       "      <th></th>\n",
       "      <th></th>\n",
       "      <th></th>\n",
       "      <th></th>\n",
       "      <th></th>\n",
       "      <th></th>\n",
       "    </tr>\n",
       "  </thead>\n",
       "  <tbody>\n",
       "    <tr>\n",
       "      <th>619</th>\n",
       "      <td>20</td>\n",
       "      <td>90.0</td>\n",
       "      <td>11694</td>\n",
       "      <td>9</td>\n",
       "      <td>5</td>\n",
       "      <td>2007</td>\n",
       "      <td>2007</td>\n",
       "      <td>452.0</td>\n",
       "      <td>48</td>\n",
       "      <td>0</td>\n",
       "      <td>...</td>\n",
       "      <td>774</td>\n",
       "      <td>0</td>\n",
       "      <td>108</td>\n",
       "      <td>0</td>\n",
       "      <td>0</td>\n",
       "      <td>260</td>\n",
       "      <td>0</td>\n",
       "      <td>0</td>\n",
       "      <td>7</td>\n",
       "      <td>2007</td>\n",
       "    </tr>\n",
       "    <tr>\n",
       "      <th>871</th>\n",
       "      <td>20</td>\n",
       "      <td>60.0</td>\n",
       "      <td>6600</td>\n",
       "      <td>5</td>\n",
       "      <td>5</td>\n",
       "      <td>1962</td>\n",
       "      <td>1962</td>\n",
       "      <td>0.0</td>\n",
       "      <td>0</td>\n",
       "      <td>0</td>\n",
       "      <td>...</td>\n",
       "      <td>308</td>\n",
       "      <td>0</td>\n",
       "      <td>0</td>\n",
       "      <td>0</td>\n",
       "      <td>0</td>\n",
       "      <td>0</td>\n",
       "      <td>0</td>\n",
       "      <td>0</td>\n",
       "      <td>8</td>\n",
       "      <td>2009</td>\n",
       "    </tr>\n",
       "    <tr>\n",
       "      <th>93</th>\n",
       "      <td>30</td>\n",
       "      <td>80.0</td>\n",
       "      <td>13360</td>\n",
       "      <td>5</td>\n",
       "      <td>7</td>\n",
       "      <td>1921</td>\n",
       "      <td>2006</td>\n",
       "      <td>0.0</td>\n",
       "      <td>713</td>\n",
       "      <td>0</td>\n",
       "      <td>...</td>\n",
       "      <td>432</td>\n",
       "      <td>0</td>\n",
       "      <td>0</td>\n",
       "      <td>44</td>\n",
       "      <td>0</td>\n",
       "      <td>0</td>\n",
       "      <td>0</td>\n",
       "      <td>0</td>\n",
       "      <td>8</td>\n",
       "      <td>2009</td>\n",
       "    </tr>\n",
       "    <tr>\n",
       "      <th>818</th>\n",
       "      <td>20</td>\n",
       "      <td>NaN</td>\n",
       "      <td>13265</td>\n",
       "      <td>8</td>\n",
       "      <td>5</td>\n",
       "      <td>2002</td>\n",
       "      <td>2002</td>\n",
       "      <td>148.0</td>\n",
       "      <td>1218</td>\n",
       "      <td>0</td>\n",
       "      <td>...</td>\n",
       "      <td>857</td>\n",
       "      <td>150</td>\n",
       "      <td>59</td>\n",
       "      <td>0</td>\n",
       "      <td>0</td>\n",
       "      <td>0</td>\n",
       "      <td>0</td>\n",
       "      <td>0</td>\n",
       "      <td>7</td>\n",
       "      <td>2008</td>\n",
       "    </tr>\n",
       "    <tr>\n",
       "      <th>303</th>\n",
       "      <td>20</td>\n",
       "      <td>118.0</td>\n",
       "      <td>13704</td>\n",
       "      <td>7</td>\n",
       "      <td>5</td>\n",
       "      <td>2001</td>\n",
       "      <td>2002</td>\n",
       "      <td>150.0</td>\n",
       "      <td>0</td>\n",
       "      <td>0</td>\n",
       "      <td>...</td>\n",
       "      <td>843</td>\n",
       "      <td>468</td>\n",
       "      <td>81</td>\n",
       "      <td>0</td>\n",
       "      <td>0</td>\n",
       "      <td>0</td>\n",
       "      <td>0</td>\n",
       "      <td>0</td>\n",
       "      <td>1</td>\n",
       "      <td>2006</td>\n",
       "    </tr>\n",
       "  </tbody>\n",
       "</table>\n",
       "<p>5 rows × 36 columns</p>\n",
       "</div>"
      ],
      "text/plain": [
       "     MSSubClass  LotFrontage  LotArea  OverallQual  OverallCond  YearBuilt  \\\n",
       "Id                                                                           \n",
       "619          20         90.0    11694            9            5       2007   \n",
       "871          20         60.0     6600            5            5       1962   \n",
       "93           30         80.0    13360            5            7       1921   \n",
       "818          20          NaN    13265            8            5       2002   \n",
       "303          20        118.0    13704            7            5       2001   \n",
       "\n",
       "     YearRemodAdd  MasVnrArea  BsmtFinSF1  BsmtFinSF2  ...  GarageArea  \\\n",
       "Id                                                     ...               \n",
       "619          2007       452.0          48           0  ...         774   \n",
       "871          1962         0.0           0           0  ...         308   \n",
       "93           2006         0.0         713           0  ...         432   \n",
       "818          2002       148.0        1218           0  ...         857   \n",
       "303          2002       150.0           0           0  ...         843   \n",
       "\n",
       "     WoodDeckSF  OpenPorchSF  EnclosedPorch  3SsnPorch  ScreenPorch  PoolArea  \\\n",
       "Id                                                                              \n",
       "619           0          108              0          0          260         0   \n",
       "871           0            0              0          0            0         0   \n",
       "93            0            0             44          0            0         0   \n",
       "818         150           59              0          0            0         0   \n",
       "303         468           81              0          0            0         0   \n",
       "\n",
       "     MiscVal  MoSold  YrSold  \n",
       "Id                            \n",
       "619        0       7    2007  \n",
       "871        0       8    2009  \n",
       "93         0       8    2009  \n",
       "818        0       7    2008  \n",
       "303        0       1    2006  \n",
       "\n",
       "[5 rows x 36 columns]"
      ]
     },
     "execution_count": 3,
     "metadata": {},
     "output_type": "execute_result"
    }
   ],
   "source": [
    "X_train.head()"
   ]
  },
  {
   "cell_type": "markdown",
   "execution_count": null,
   "metadata": {
    "papermill": {
     "duration": 0.013069,
     "end_time": "2020-08-24T00:15:42.809012",
     "exception": false,
     "start_time": "2020-08-24T00:15:42.795943",
     "status": "completed"
    },
    "tags": []
   },
   "source": [
    "You can already see a few missing values in the first several rows.  In the next step, you'll obtain a more comprehensive understanding of the missing values in the dataset.\n",
    "\n",
    "# Step 1: Preliminary investigation\n",
    "\n",
    "Run the code cell below without changes."
   ]
  },
  {
   "cell_type": "code",
   "execution_count": 4,
   "metadata": {
    "execution": {
     "iopub.execute_input": "2020-08-24T00:15:42.847310Z",
     "iopub.status.busy": "2020-08-24T00:15:42.845169Z",
     "iopub.status.idle": "2020-08-24T00:15:42.853936Z",
     "shell.execute_reply": "2020-08-24T00:15:42.855020Z"
    },
    "papermill": {
     "duration": 0.032376,
     "end_time": "2020-08-24T00:15:42.855330",
     "exception": false,
     "start_time": "2020-08-24T00:15:42.822954",
     "status": "completed"
    },
    "tags": []
   },
   "outputs": [
    {
     "name": "stdout",
     "output_type": "stream",
     "text": [
      "(1168, 36)\n",
      "LotFrontage    212\n",
      "MasVnrArea       6\n",
      "GarageYrBlt     58\n",
      "dtype: int64\n"
     ]
    }
   ],
   "source": [
    "# Shape of training data (num_rows, num_columns)\n",
    "print(X_train.shape)\n",
    "\n",
    "# Number of missing values in each column of training data\n",
    "missing_val_count_by_column = (X_train.isnull().sum())\n",
    "print(missing_val_count_by_column[missing_val_count_by_column > 0])"
   ]
  },
  {
   "cell_type": "markdown",
   "execution_count": null,
   "metadata": {
    "papermill": {
     "duration": 0.017007,
     "end_time": "2020-08-24T00:15:42.888287",
     "exception": false,
     "start_time": "2020-08-24T00:15:42.871280",
     "status": "completed"
    },
    "tags": []
   },
   "source": [
    "### Part A\n",
    "\n",
    "Use the above output to answer the questions below."
   ]
  },
  {
   "cell_type": "code",
   "execution_count": 5,
   "metadata": {
    "execution": {
     "iopub.execute_input": "2020-08-24T00:15:42.931249Z",
     "iopub.status.busy": "2020-08-24T00:15:42.930087Z",
     "iopub.status.idle": "2020-08-24T00:15:42.940455Z",
     "shell.execute_reply": "2020-08-24T00:15:42.939428Z"
    },
    "papermill": {
     "duration": 0.03592,
     "end_time": "2020-08-24T00:15:42.940645",
     "exception": false,
     "start_time": "2020-08-24T00:15:42.904725",
     "status": "completed"
    },
    "tags": []
   },
   "outputs": [
    {
     "data": {
      "application/javascript": [
       "parent.postMessage({\"jupyterEvent\": \"custom.exercise_interaction\", \"data\": {\"outcomeType\": 1, \"valueTowardsCompletion\": 1.0, \"interactionType\": 1, \"questionType\": 1, \"questionId\": \"1.1_InvestigateEquality\", \"learnToolsVersion\": \"0.3.4\", \"failureMessage\": \"\", \"exceptionClass\": \"\", \"trace\": \"\"}}, \"*\")"
      ],
      "text/plain": [
       "<IPython.core.display.Javascript object>"
      ]
     },
     "metadata": {},
     "output_type": "display_data"
    },
    {
     "data": {
      "text/markdown": [
       "<span style=\"color:#33cc33\">Correct</span>"
      ],
      "text/plain": [
       "Correct"
      ]
     },
     "metadata": {},
     "output_type": "display_data"
    }
   ],
   "source": [
    "# Fill in the line below: How many rows are in the training data?\n",
    "num_rows = 1168\n",
    "\n",
    "# Fill in the line below: How many columns in the training data\n",
    "# have missing values?\n",
    "num_cols_with_missing = 3\n",
    "\n",
    "# Fill in the line below: How many missing entries are contained in \n",
    "# all of the training data?\n",
    "tot_missing = missing_val_count_by_column[missing_val_count_by_column > 0].sum()\n",
    "\n",
    "# Check your answers\n",
    "step_1.a.check()"
   ]
  },
  {
   "cell_type": "code",
   "execution_count": 6,
   "metadata": {
    "execution": {
     "iopub.execute_input": "2020-08-24T00:15:42.982161Z",
     "iopub.status.busy": "2020-08-24T00:15:42.980895Z",
     "iopub.status.idle": "2020-08-24T00:15:42.989773Z",
     "shell.execute_reply": "2020-08-24T00:15:42.985685Z"
    },
    "papermill": {
     "duration": 0.033095,
     "end_time": "2020-08-24T00:15:42.990048",
     "exception": false,
     "start_time": "2020-08-24T00:15:42.956953",
     "status": "completed"
    },
    "tags": []
   },
   "outputs": [],
   "source": [
    "# Lines below will give you a hint or solution code\n",
    "#step_1.a.hint()\n",
    "#step_1.a.solution()"
   ]
  },
  {
   "cell_type": "markdown",
   "execution_count": null,
   "metadata": {
    "papermill": {
     "duration": 0.017644,
     "end_time": "2020-08-24T00:15:43.027758",
     "exception": false,
     "start_time": "2020-08-24T00:15:43.010114",
     "status": "completed"
    },
    "tags": []
   },
   "source": [
    "### Part B\n",
    "Considering your answers above, what do you think is likely the best approach to dealing with the missing values?"
   ]
  },
  {
   "cell_type": "code",
   "execution_count": 7,
   "metadata": {
    "execution": {
     "iopub.execute_input": "2020-08-24T00:15:43.067243Z",
     "iopub.status.busy": "2020-08-24T00:15:43.065813Z",
     "iopub.status.idle": "2020-08-24T00:15:43.071006Z",
     "shell.execute_reply": "2020-08-24T00:15:43.070119Z"
    },
    "papermill": {
     "duration": 0.026018,
     "end_time": "2020-08-24T00:15:43.071158",
     "exception": false,
     "start_time": "2020-08-24T00:15:43.045140",
     "status": "completed"
    },
    "tags": []
   },
   "outputs": [],
   "source": [
    "#step_1.b.hint()"
   ]
  },
  {
   "cell_type": "code",
   "execution_count": 8,
   "metadata": {
    "execution": {
     "iopub.execute_input": "2020-08-24T00:15:43.108661Z",
     "iopub.status.busy": "2020-08-24T00:15:43.107201Z",
     "iopub.status.idle": "2020-08-24T00:15:43.109961Z",
     "shell.execute_reply": "2020-08-24T00:15:43.111003Z"
    },
    "papermill": {
     "duration": 0.025592,
     "end_time": "2020-08-24T00:15:43.111275",
     "exception": false,
     "start_time": "2020-08-24T00:15:43.085683",
     "status": "completed"
    },
    "tags": []
   },
   "outputs": [],
   "source": [
    "# Check your answer (Run this code cell to receive credit!)\n",
    "#step_1.b.solution()"
   ]
  },
  {
   "cell_type": "markdown",
   "execution_count": null,
   "metadata": {
    "papermill": {
     "duration": 0.014386,
     "end_time": "2020-08-24T00:15:43.141342",
     "exception": false,
     "start_time": "2020-08-24T00:15:43.126956",
     "status": "completed"
    },
    "tags": []
   },
   "source": [
    "To compare different approaches to dealing with missing values, you'll use the same `score_dataset()` function from the tutorial.  This function reports the [mean absolute error](https://en.wikipedia.org/wiki/Mean_absolute_error) (MAE) from a random forest model."
   ]
  },
  {
   "cell_type": "code",
   "execution_count": 9,
   "metadata": {
    "execution": {
     "iopub.execute_input": "2020-08-24T00:15:43.182492Z",
     "iopub.status.busy": "2020-08-24T00:15:43.181095Z",
     "iopub.status.idle": "2020-08-24T00:15:43.575241Z",
     "shell.execute_reply": "2020-08-24T00:15:43.574306Z"
    },
    "papermill": {
     "duration": 0.419334,
     "end_time": "2020-08-24T00:15:43.575457",
     "exception": false,
     "start_time": "2020-08-24T00:15:43.156123",
     "status": "completed"
    },
    "tags": []
   },
   "outputs": [],
   "source": [
    "from sklearn.ensemble import RandomForestRegressor\n",
    "from sklearn.metrics import mean_absolute_error\n",
    "\n",
    "# Function for comparing different approaches\n",
    "def score_dataset(X_train, X_valid, y_train, y_valid):\n",
    "    model = RandomForestRegressor(n_estimators=100, random_state=0)\n",
    "    model.fit(X_train, y_train)\n",
    "    preds = model.predict(X_valid)\n",
    "    return mean_absolute_error(y_valid, preds)"
   ]
  },
  {
   "cell_type": "markdown",
   "execution_count": null,
   "metadata": {
    "papermill": {
     "duration": 0.015916,
     "end_time": "2020-08-24T00:15:43.608540",
     "exception": false,
     "start_time": "2020-08-24T00:15:43.592624",
     "status": "completed"
    },
    "tags": []
   },
   "source": [
    "# Step 2: Drop columns with missing values\n",
    "\n",
    "In this step, you'll preprocess the data in `X_train` and `X_valid` to remove columns with missing values.  Set the preprocessed DataFrames to `reduced_X_train` and `reduced_X_valid`, respectively.  "
   ]
  },
  {
   "cell_type": "code",
   "execution_count": 10,
   "metadata": {
    "execution": {
     "iopub.execute_input": "2020-08-24T00:15:43.654216Z",
     "iopub.status.busy": "2020-08-24T00:15:43.653227Z",
     "iopub.status.idle": "2020-08-24T00:15:43.661169Z",
     "shell.execute_reply": "2020-08-24T00:15:43.660226Z"
    },
    "papermill": {
     "duration": 0.036783,
     "end_time": "2020-08-24T00:15:43.661347",
     "exception": false,
     "start_time": "2020-08-24T00:15:43.624564",
     "status": "completed"
    },
    "tags": []
   },
   "outputs": [
    {
     "data": {
      "text/plain": [
       "['LotFrontage', 'MasVnrArea', 'GarageYrBlt']"
      ]
     },
     "execution_count": 10,
     "metadata": {},
     "output_type": "execute_result"
    }
   ],
   "source": [
    "missing_val_count_by_column[missing_val_count_by_column > 0].index.tolist()"
   ]
  },
  {
   "cell_type": "code",
   "execution_count": 11,
   "metadata": {
    "execution": {
     "iopub.execute_input": "2020-08-24T00:15:43.721570Z",
     "iopub.status.busy": "2020-08-24T00:15:43.719835Z",
     "iopub.status.idle": "2020-08-24T00:15:43.726014Z",
     "shell.execute_reply": "2020-08-24T00:15:43.725065Z"
    },
    "papermill": {
     "duration": 0.047802,
     "end_time": "2020-08-24T00:15:43.726196",
     "exception": false,
     "start_time": "2020-08-24T00:15:43.678394",
     "status": "completed"
    },
    "tags": []
   },
   "outputs": [
    {
     "data": {
      "text/plain": [
       "['LotFrontage', 'MasVnrArea', 'GarageYrBlt']"
      ]
     },
     "execution_count": 11,
     "metadata": {},
     "output_type": "execute_result"
    }
   ],
   "source": [
    "cols_missing = [col for col in X_train.columns if X_train[col].isnull().any()]\n",
    "cols_missing"
   ]
  },
  {
   "cell_type": "code",
   "execution_count": 12,
   "metadata": {
    "execution": {
     "iopub.execute_input": "2020-08-24T00:15:43.778271Z",
     "iopub.status.busy": "2020-08-24T00:15:43.777037Z",
     "iopub.status.idle": "2020-08-24T00:15:43.803319Z",
     "shell.execute_reply": "2020-08-24T00:15:43.802501Z"
    },
    "papermill": {
     "duration": 0.061446,
     "end_time": "2020-08-24T00:15:43.803486",
     "exception": false,
     "start_time": "2020-08-24T00:15:43.742040",
     "status": "completed"
    },
    "tags": []
   },
   "outputs": [
    {
     "data": {
      "application/javascript": [
       "parent.postMessage({\"jupyterEvent\": \"custom.exercise_interaction\", \"data\": {\"outcomeType\": 1, \"valueTowardsCompletion\": 1.0, \"interactionType\": 1, \"questionType\": 2, \"questionId\": \"2_DropMissing\", \"learnToolsVersion\": \"0.3.4\", \"failureMessage\": \"\", \"exceptionClass\": \"\", \"trace\": \"\"}}, \"*\")"
      ],
      "text/plain": [
       "<IPython.core.display.Javascript object>"
      ]
     },
     "metadata": {},
     "output_type": "display_data"
    },
    {
     "data": {
      "text/markdown": [
       "<span style=\"color:#33cc33\">Correct</span>"
      ],
      "text/plain": [
       "Correct"
      ]
     },
     "metadata": {},
     "output_type": "display_data"
    }
   ],
   "source": [
    "# Fill in the line below: get names of columns with missing values\n",
    "missing_colnames = missing_val_count_by_column[missing_val_count_by_column > 0].index.tolist()\n",
    "\n",
    "# Fill in the lines below: drop columns in training and validation data\n",
    "reduced_X_train = X_train.drop(missing_colnames, axis =1)\n",
    "reduced_X_valid = X_valid.drop(missing_colnames, axis =1)\n",
    "\n",
    "# Check your answers\n",
    "step_2.check()"
   ]
  },
  {
   "cell_type": "code",
   "execution_count": 13,
   "metadata": {
    "execution": {
     "iopub.execute_input": "2020-08-24T00:15:43.841507Z",
     "iopub.status.busy": "2020-08-24T00:15:43.840392Z",
     "iopub.status.idle": "2020-08-24T00:15:43.845547Z",
     "shell.execute_reply": "2020-08-24T00:15:43.844747Z"
    },
    "papermill": {
     "duration": 0.026548,
     "end_time": "2020-08-24T00:15:43.845680",
     "exception": false,
     "start_time": "2020-08-24T00:15:43.819132",
     "status": "completed"
    },
    "tags": []
   },
   "outputs": [],
   "source": [
    "# Lines below will give you a hint or solution code\n",
    "#step_2.hint()\n",
    "#step_2.solution()"
   ]
  },
  {
   "cell_type": "markdown",
   "execution_count": null,
   "metadata": {
    "papermill": {
     "duration": 0.014163,
     "end_time": "2020-08-24T00:15:43.874874",
     "exception": false,
     "start_time": "2020-08-24T00:15:43.860711",
     "status": "completed"
    },
    "tags": []
   },
   "source": [
    "Run the next code cell without changes to obtain the MAE for this approach."
   ]
  },
  {
   "cell_type": "code",
   "execution_count": 14,
   "metadata": {
    "execution": {
     "iopub.execute_input": "2020-08-24T00:15:43.924838Z",
     "iopub.status.busy": "2020-08-24T00:15:43.913190Z",
     "iopub.status.idle": "2020-08-24T00:15:45.294758Z",
     "shell.execute_reply": "2020-08-24T00:15:45.295424Z"
    },
    "papermill": {
     "duration": 1.406011,
     "end_time": "2020-08-24T00:15:45.295620",
     "exception": false,
     "start_time": "2020-08-24T00:15:43.889609",
     "status": "completed"
    },
    "tags": []
   },
   "outputs": [
    {
     "name": "stdout",
     "output_type": "stream",
     "text": [
      "MAE (Drop columns with missing values):\n",
      "17837.82570776256\n"
     ]
    }
   ],
   "source": [
    "print(\"MAE (Drop columns with missing values):\")\n",
    "print(score_dataset(reduced_X_train, reduced_X_valid, y_train, y_valid))"
   ]
  },
  {
   "cell_type": "markdown",
   "execution_count": null,
   "metadata": {
    "papermill": {
     "duration": 0.015543,
     "end_time": "2020-08-24T00:15:45.327230",
     "exception": false,
     "start_time": "2020-08-24T00:15:45.311687",
     "status": "completed"
    },
    "tags": []
   },
   "source": [
    "# Step 3: Imputation\n",
    "\n",
    "### Part A\n",
    "\n",
    "Use the next code cell to impute missing values with the mean value along each column.  Set the preprocessed DataFrames to `imputed_X_train` and `imputed_X_valid`.  Make sure that the column names match those in `X_train` and `X_valid`."
   ]
  },
  {
   "cell_type": "code",
   "execution_count": 15,
   "metadata": {
    "execution": {
     "iopub.execute_input": "2020-08-24T00:15:45.371205Z",
     "iopub.status.busy": "2020-08-24T00:15:45.369947Z",
     "iopub.status.idle": "2020-08-24T00:15:45.410605Z",
     "shell.execute_reply": "2020-08-24T00:15:45.409721Z"
    },
    "papermill": {
     "duration": 0.066698,
     "end_time": "2020-08-24T00:15:45.410760",
     "exception": false,
     "start_time": "2020-08-24T00:15:45.344062",
     "status": "completed"
    },
    "tags": []
   },
   "outputs": [
    {
     "data": {
      "application/javascript": [
       "parent.postMessage({\"jupyterEvent\": \"custom.exercise_interaction\", \"data\": {\"outcomeType\": 1, \"valueTowardsCompletion\": 1.0, \"interactionType\": 1, \"questionType\": 2, \"questionId\": \"3.1_ImputeCode\", \"learnToolsVersion\": \"0.3.4\", \"failureMessage\": \"\", \"exceptionClass\": \"\", \"trace\": \"\"}}, \"*\")"
      ],
      "text/plain": [
       "<IPython.core.display.Javascript object>"
      ]
     },
     "metadata": {},
     "output_type": "display_data"
    },
    {
     "data": {
      "text/markdown": [
       "<span style=\"color:#33cc33\">Correct</span>"
      ],
      "text/plain": [
       "Correct"
      ]
     },
     "metadata": {},
     "output_type": "display_data"
    }
   ],
   "source": [
    "from sklearn.impute import SimpleImputer\n",
    "\n",
    "# Fill in the lines below: imputation\n",
    "meanImputer = SimpleImputer()\n",
    "\n",
    "imputed_X_train = pd.DataFrame(meanImputer.fit_transform(X_train))\n",
    "imputed_X_valid = pd.DataFrame(meanImputer.transform(X_valid))\n",
    "\n",
    "# Fill in the lines below: imputation removed column names; put them back\n",
    "imputed_X_train.columns = X_train.columns\n",
    "imputed_X_valid.columns = X_valid.columns\n",
    "\n",
    "# Check your answers\n",
    "step_3.a.check()"
   ]
  },
  {
   "cell_type": "code",
   "execution_count": 16,
   "metadata": {
    "execution": {
     "iopub.execute_input": "2020-08-24T00:15:45.447396Z",
     "iopub.status.busy": "2020-08-24T00:15:45.446633Z",
     "iopub.status.idle": "2020-08-24T00:15:45.450904Z",
     "shell.execute_reply": "2020-08-24T00:15:45.450250Z"
    },
    "papermill": {
     "duration": 0.024189,
     "end_time": "2020-08-24T00:15:45.451045",
     "exception": false,
     "start_time": "2020-08-24T00:15:45.426856",
     "status": "completed"
    },
    "tags": []
   },
   "outputs": [],
   "source": [
    "# Lines below will give you a hint or solution code\n",
    "#step_3.a.hint()\n",
    "#step_3.a.solution()"
   ]
  },
  {
   "cell_type": "markdown",
   "execution_count": null,
   "metadata": {
    "papermill": {
     "duration": 0.014923,
     "end_time": "2020-08-24T00:15:45.481268",
     "exception": false,
     "start_time": "2020-08-24T00:15:45.466345",
     "status": "completed"
    },
    "tags": []
   },
   "source": [
    "Run the next code cell without changes to obtain the MAE for this approach."
   ]
  },
  {
   "cell_type": "code",
   "execution_count": 17,
   "metadata": {
    "execution": {
     "iopub.execute_input": "2020-08-24T00:15:45.522169Z",
     "iopub.status.busy": "2020-08-24T00:15:45.521369Z",
     "iopub.status.idle": "2020-08-24T00:15:46.976124Z",
     "shell.execute_reply": "2020-08-24T00:15:46.975175Z"
    },
    "papermill": {
     "duration": 1.479642,
     "end_time": "2020-08-24T00:15:46.976261",
     "exception": false,
     "start_time": "2020-08-24T00:15:45.496619",
     "status": "completed"
    },
    "tags": []
   },
   "outputs": [
    {
     "name": "stdout",
     "output_type": "stream",
     "text": [
      "MAE (Imputation):\n",
      "18062.894611872147\n"
     ]
    }
   ],
   "source": [
    "print(\"MAE (Imputation):\")\n",
    "print(score_dataset(imputed_X_train, imputed_X_valid, y_train, y_valid))"
   ]
  },
  {
   "cell_type": "markdown",
   "execution_count": null,
   "metadata": {
    "papermill": {
     "duration": 0.016614,
     "end_time": "2020-08-24T00:15:47.008332",
     "exception": false,
     "start_time": "2020-08-24T00:15:46.991718",
     "status": "completed"
    },
    "tags": []
   },
   "source": [
    "### Part B\n",
    "\n",
    "Compare the MAE from each approach.  Does anything surprise you about the results?  Why do you think one approach performed better than the other?"
   ]
  },
  {
   "cell_type": "code",
   "execution_count": 18,
   "metadata": {
    "execution": {
     "iopub.execute_input": "2020-08-24T00:15:47.054479Z",
     "iopub.status.busy": "2020-08-24T00:15:47.053358Z",
     "iopub.status.idle": "2020-08-24T00:15:47.057236Z",
     "shell.execute_reply": "2020-08-24T00:15:47.056303Z"
    },
    "papermill": {
     "duration": 0.027699,
     "end_time": "2020-08-24T00:15:47.057424",
     "exception": false,
     "start_time": "2020-08-24T00:15:47.029725",
     "status": "completed"
    },
    "tags": []
   },
   "outputs": [],
   "source": [
    "#step_3.b.hint()"
   ]
  },
  {
   "cell_type": "code",
   "execution_count": 19,
   "metadata": {
    "execution": {
     "iopub.execute_input": "2020-08-24T00:15:47.098476Z",
     "iopub.status.busy": "2020-08-24T00:15:47.097312Z",
     "iopub.status.idle": "2020-08-24T00:15:47.100789Z",
     "shell.execute_reply": "2020-08-24T00:15:47.101592Z"
    },
    "papermill": {
     "duration": 0.027505,
     "end_time": "2020-08-24T00:15:47.101832",
     "exception": false,
     "start_time": "2020-08-24T00:15:47.074327",
     "status": "completed"
    },
    "tags": []
   },
   "outputs": [],
   "source": [
    "# Check your answer (Run this code cell to receive credit!)\n",
    "#step_3.b.solution()"
   ]
  },
  {
   "cell_type": "markdown",
   "execution_count": null,
   "metadata": {
    "papermill": {
     "duration": 0.015115,
     "end_time": "2020-08-24T00:15:47.133101",
     "exception": false,
     "start_time": "2020-08-24T00:15:47.117986",
     "status": "completed"
    },
    "tags": []
   },
   "source": [
    "# Step 4: Generate test predictions\n",
    "\n",
    "In this final step, you'll use any approach of your choosing to deal with missing values.  Once you've preprocessed the training and validation features, you'll train and evaluate a random forest model.  Then, you'll preprocess the test data before generating predictions that can be submitted to the competition!\n",
    "\n",
    "### Part A\n",
    "\n",
    "Use the next code cell to preprocess the training and validation data.  Set the preprocessed DataFrames to `final_X_train` and `final_X_valid`.  **You can use any approach of your choosing here!**  in order for this step to be marked as correct, you need only ensure:\n",
    "- the preprocessed DataFrames have the same number of columns,\n",
    "- the preprocessed DataFrames have no missing values, \n",
    "- `final_X_train` and `y_train` have the same number of rows, and\n",
    "- `final_X_valid` and `y_valid` have the same number of rows."
   ]
  },
  {
   "cell_type": "code",
   "execution_count": 20,
   "metadata": {
    "execution": {
     "iopub.execute_input": "2020-08-24T00:15:47.175540Z",
     "iopub.status.busy": "2020-08-24T00:15:47.172086Z",
     "iopub.status.idle": "2020-08-24T00:15:47.180578Z",
     "shell.execute_reply": "2020-08-24T00:15:47.181140Z"
    },
    "papermill": {
     "duration": 0.032624,
     "end_time": "2020-08-24T00:15:47.181329",
     "exception": false,
     "start_time": "2020-08-24T00:15:47.148705",
     "status": "completed"
    },
    "tags": []
   },
   "outputs": [
    {
     "data": {
      "text/plain": [
       "LotFrontage    212\n",
       "MasVnrArea       6\n",
       "GarageYrBlt     58\n",
       "dtype: int64"
      ]
     },
     "execution_count": 20,
     "metadata": {},
     "output_type": "execute_result"
    }
   ],
   "source": [
    "missingCount = X_train.isnull().sum()\n",
    "missingCount[missingCount>0]"
   ]
  },
  {
   "cell_type": "code",
   "execution_count": 21,
   "metadata": {
    "execution": {
     "iopub.execute_input": "2020-08-24T00:15:47.221858Z",
     "iopub.status.busy": "2020-08-24T00:15:47.221008Z",
     "iopub.status.idle": "2020-08-24T00:15:47.232963Z",
     "shell.execute_reply": "2020-08-24T00:15:47.232293Z"
    },
    "papermill": {
     "duration": 0.035921,
     "end_time": "2020-08-24T00:15:47.233111",
     "exception": false,
     "start_time": "2020-08-24T00:15:47.197190",
     "status": "completed"
    },
    "tags": []
   },
   "outputs": [
    {
     "data": {
      "text/plain": [
       "count    956.000000\n",
       "mean      69.614017\n",
       "std       22.946069\n",
       "min       21.000000\n",
       "25%       59.000000\n",
       "50%       69.000000\n",
       "75%       80.000000\n",
       "max      313.000000\n",
       "Name: LotFrontage, dtype: float64"
      ]
     },
     "execution_count": 21,
     "metadata": {},
     "output_type": "execute_result"
    }
   ],
   "source": [
    "X_train.LotFrontage.describe()"
   ]
  },
  {
   "cell_type": "code",
   "execution_count": 22,
   "metadata": {
    "execution": {
     "iopub.execute_input": "2020-08-24T00:15:47.276508Z",
     "iopub.status.busy": "2020-08-24T00:15:47.272035Z",
     "iopub.status.idle": "2020-08-24T00:15:47.283451Z",
     "shell.execute_reply": "2020-08-24T00:15:47.282438Z"
    },
    "papermill": {
     "duration": 0.034691,
     "end_time": "2020-08-24T00:15:47.283628",
     "exception": false,
     "start_time": "2020-08-24T00:15:47.248937",
     "status": "completed"
    },
    "tags": []
   },
   "outputs": [
    {
     "data": {
      "text/plain": [
       "count    1162.000000\n",
       "mean      103.481067\n",
       "std       182.676225\n",
       "min         0.000000\n",
       "25%         0.000000\n",
       "50%         0.000000\n",
       "75%       167.750000\n",
       "max      1600.000000\n",
       "Name: MasVnrArea, dtype: float64"
      ]
     },
     "execution_count": 22,
     "metadata": {},
     "output_type": "execute_result"
    }
   ],
   "source": [
    "X_train.MasVnrArea.describe()"
   ]
  },
  {
   "cell_type": "code",
   "execution_count": 23,
   "metadata": {
    "execution": {
     "iopub.execute_input": "2020-08-24T00:15:47.329212Z",
     "iopub.status.busy": "2020-08-24T00:15:47.326912Z",
     "iopub.status.idle": "2020-08-24T00:15:47.341349Z",
     "shell.execute_reply": "2020-08-24T00:15:47.340622Z"
    },
    "papermill": {
     "duration": 0.03967,
     "end_time": "2020-08-24T00:15:47.341742",
     "exception": false,
     "start_time": "2020-08-24T00:15:47.302072",
     "status": "completed"
    },
    "tags": []
   },
   "outputs": [
    {
     "data": {
      "text/plain": [
       "count    1110.000000\n",
       "mean     1978.140541\n",
       "std        24.877265\n",
       "min      1900.000000\n",
       "25%      1961.000000\n",
       "50%      1979.000000\n",
       "75%      2002.000000\n",
       "max      2010.000000\n",
       "Name: GarageYrBlt, dtype: float64"
      ]
     },
     "execution_count": 23,
     "metadata": {},
     "output_type": "execute_result"
    }
   ],
   "source": [
    "X_train.GarageYrBlt.describe()"
   ]
  },
  {
   "cell_type": "code",
   "execution_count": 24,
   "metadata": {
    "_kg_hide-output": true,
    "collapsed": true,
    "execution": {
     "iopub.execute_input": "2020-08-24T00:15:47.388632Z",
     "iopub.status.busy": "2020-08-24T00:15:47.387628Z",
     "iopub.status.idle": "2020-08-24T00:15:47.391843Z",
     "shell.execute_reply": "2020-08-24T00:15:47.391052Z"
    },
    "papermill": {
     "duration": 0.031158,
     "end_time": "2020-08-24T00:15:47.392018",
     "exception": false,
     "start_time": "2020-08-24T00:15:47.360860",
     "status": "completed"
    },
    "tags": []
   },
   "outputs": [],
   "source": [
    "# from sklearn.impute import SimpleImputer\n",
    "\n",
    "# missingCols = [col for col in X_train.columns if X_train[col].isnull().any()]\n",
    "\n",
    "# meanImputer = SimpleImputer()\n",
    "# modeImputer = SimpleImputer(strategy='most_frequent')\n",
    "# constImputer = SimpleImputer(strategy='constant',fill_value=1900)\n",
    "\n",
    "# imputed_GarageYrBlt_train = pd.DataFrame(constImputer.fit_transform(X_train[['GarageYrBlt']]))\n",
    "# imputed_MasVnrArea_train = pd.DataFrame(modeImputer.fit_transform(X_train[['MasVnrArea']]))\n",
    "# imputed_GarageYrBlt_train.columns = X_train[['GarageYrBlt']].columns\n",
    "# imputed_MasVnrArea_train.columns = X_train[['MasVnrArea']].columns\n",
    "\n",
    "# imputed_GarageYrBlt_valid = pd.DataFrame(constImputer.fit_transform(X_valid[['GarageYrBlt']]))\n",
    "# imputed_MasVnrArea_valid = pd.DataFrame(modeImputer.fit_transform(X_valid[['MasVnrArea']]))\n",
    "# imputed_GarageYrBlt_valid.columns = X_valid[['GarageYrBlt']].columns\n",
    "# imputed_MasVnrArea_valid.columns = X_valid[['MasVnrArea']].columns\n",
    "\n",
    "# tempTrain = X_train.copy()\n",
    "# tempTrain.drop(missingCols, axis=1, inplace=True)\n",
    "# tempTrain = pd.merge(tempTrain, imputed_GarageYrBlt_train, on='Id', how='left')\n",
    "# tempTrain = pd.merge(tempTrain, imputed_MasVnrArea_train, on='Id', how='left')\n",
    "\n",
    "# tempValid = X_valid.copy()\n",
    "# tempValid.drop(missingCols, axis=1, inplace=True)\n",
    "# tempValid['GarageYrBlt'] = imputed_GarageYrBlt_valid.GarageYrBlt\n",
    "# tempValid['MasVnrArea'] = imputed_MasVnrArea_valid.MasVnrArea"
   ]
  },
  {
   "cell_type": "code",
   "execution_count": 25,
   "metadata": {
    "execution": {
     "iopub.execute_input": "2020-08-24T00:15:47.445314Z",
     "iopub.status.busy": "2020-08-24T00:15:47.444059Z",
     "iopub.status.idle": "2020-08-24T00:15:47.447963Z",
     "shell.execute_reply": "2020-08-24T00:15:47.448566Z"
    },
    "papermill": {
     "duration": 0.038459,
     "end_time": "2020-08-24T00:15:47.448775",
     "exception": false,
     "start_time": "2020-08-24T00:15:47.410316",
     "status": "completed"
    },
    "tags": []
   },
   "outputs": [],
   "source": [
    "from sklearn.impute import SimpleImputer\n",
    "\n",
    "tempTrain = X_train.copy()\n",
    "tempTrain.GarageYrBlt.fillna(1900, inplace=True)\n",
    "tempTrain.MasVnrArea.fillna(0, inplace=True)\n",
    "tempTrain.drop(columns=['LotFrontage'], inplace=True)\n",
    "\n",
    "tempValid = X_valid.copy()\n",
    "tempValid.GarageYrBlt.fillna(1900, inplace=True)\n",
    "tempValid.MasVnrArea.fillna(0, inplace=True)\n",
    "tempValid.drop(columns=['LotFrontage'], inplace=True)"
   ]
  },
  {
   "cell_type": "code",
   "execution_count": 26,
   "metadata": {
    "execution": {
     "iopub.execute_input": "2020-08-24T00:15:47.507873Z",
     "iopub.status.busy": "2020-08-24T00:15:47.506788Z",
     "iopub.status.idle": "2020-08-24T00:15:47.514992Z",
     "shell.execute_reply": "2020-08-24T00:15:47.514308Z"
    },
    "papermill": {
     "duration": 0.049668,
     "end_time": "2020-08-24T00:15:47.515148",
     "exception": false,
     "start_time": "2020-08-24T00:15:47.465480",
     "status": "completed"
    },
    "tags": []
   },
   "outputs": [
    {
     "data": {
      "application/javascript": [
       "parent.postMessage({\"jupyterEvent\": \"custom.exercise_interaction\", \"data\": {\"outcomeType\": 1, \"valueTowardsCompletion\": 1.0, \"interactionType\": 1, \"questionType\": 2, \"questionId\": \"4.1_PredsCodeA\", \"learnToolsVersion\": \"0.3.4\", \"failureMessage\": \"\", \"exceptionClass\": \"\", \"trace\": \"\"}}, \"*\")"
      ],
      "text/plain": [
       "<IPython.core.display.Javascript object>"
      ]
     },
     "metadata": {},
     "output_type": "display_data"
    },
    {
     "data": {
      "text/markdown": [
       "<span style=\"color:#33cc33\">Correct</span>"
      ],
      "text/plain": [
       "Correct"
      ]
     },
     "metadata": {},
     "output_type": "display_data"
    }
   ],
   "source": [
    "# Preprocessed training and validation features\n",
    "final_X_train = tempTrain.copy()\n",
    "final_X_valid = tempValid.copy()\n",
    "\n",
    "# Check your answers\n",
    "step_4.a.check()"
   ]
  },
  {
   "cell_type": "code",
   "execution_count": 27,
   "metadata": {
    "execution": {
     "iopub.execute_input": "2020-08-24T00:15:47.556202Z",
     "iopub.status.busy": "2020-08-24T00:15:47.555046Z",
     "iopub.status.idle": "2020-08-24T00:15:47.558783Z",
     "shell.execute_reply": "2020-08-24T00:15:47.559353Z"
    },
    "papermill": {
     "duration": 0.027113,
     "end_time": "2020-08-24T00:15:47.559591",
     "exception": false,
     "start_time": "2020-08-24T00:15:47.532478",
     "status": "completed"
    },
    "tags": []
   },
   "outputs": [],
   "source": [
    "# Lines below will give you a hint or solution code\n",
    "#step_4.a.hint()\n",
    "#step_4.a.solution()"
   ]
  },
  {
   "cell_type": "markdown",
   "execution_count": null,
   "metadata": {
    "papermill": {
     "duration": 0.017544,
     "end_time": "2020-08-24T00:15:47.594581",
     "exception": false,
     "start_time": "2020-08-24T00:15:47.577037",
     "status": "completed"
    },
    "tags": []
   },
   "source": [
    "Run the next code cell to train and evaluate a random forest model.  (*Note that we don't use the `score_dataset()` function above, because we will soon use the trained model to generate test predictions!*)"
   ]
  },
  {
   "cell_type": "code",
   "execution_count": 28,
   "metadata": {
    "execution": {
     "iopub.execute_input": "2020-08-24T00:15:47.640422Z",
     "iopub.status.busy": "2020-08-24T00:15:47.639615Z",
     "iopub.status.idle": "2020-08-24T00:15:49.056997Z",
     "shell.execute_reply": "2020-08-24T00:15:49.056216Z"
    },
    "papermill": {
     "duration": 1.445161,
     "end_time": "2020-08-24T00:15:49.057159",
     "exception": false,
     "start_time": "2020-08-24T00:15:47.611998",
     "status": "completed"
    },
    "tags": []
   },
   "outputs": [
    {
     "name": "stdout",
     "output_type": "stream",
     "text": [
      "MAE (Your approach):\n",
      "18024.81252283105\n"
     ]
    }
   ],
   "source": [
    "# Define and fit model\n",
    "model = RandomForestRegressor(n_estimators=100, random_state=0)\n",
    "model.fit(final_X_train, y_train)\n",
    "\n",
    "# Get validation predictions and MAE\n",
    "preds_valid = model.predict(final_X_valid)\n",
    "print(\"MAE (Your approach):\")\n",
    "print(mean_absolute_error(y_valid, preds_valid))"
   ]
  },
  {
   "cell_type": "markdown",
   "execution_count": null,
   "metadata": {
    "papermill": {
     "duration": 0.018965,
     "end_time": "2020-08-24T00:15:49.095291",
     "exception": false,
     "start_time": "2020-08-24T00:15:49.076326",
     "status": "completed"
    },
    "tags": []
   },
   "source": [
    "### Part B\n",
    "\n",
    "Use the next code cell to preprocess your test data.  Make sure that you use a method that agrees with how you preprocessed the training and validation data, and set the preprocessed test features to `final_X_test`.\n",
    "\n",
    "Then, use the preprocessed test features and the trained model to generate test predictions in `preds_test`.\n",
    "\n",
    "In order for this step to be marked correct, you need only ensure:\n",
    "- the preprocessed test DataFrame has no missing values, and\n",
    "- `final_X_test` has the same number of rows as `X_test`."
   ]
  },
  {
   "cell_type": "code",
   "execution_count": 29,
   "metadata": {
    "execution": {
     "iopub.execute_input": "2020-08-24T00:15:49.140984Z",
     "iopub.status.busy": "2020-08-24T00:15:49.140071Z",
     "iopub.status.idle": "2020-08-24T00:15:49.151146Z",
     "shell.execute_reply": "2020-08-24T00:15:49.150455Z"
    },
    "papermill": {
     "duration": 0.03713,
     "end_time": "2020-08-24T00:15:49.151310",
     "exception": false,
     "start_time": "2020-08-24T00:15:49.114180",
     "status": "completed"
    },
    "tags": []
   },
   "outputs": [
    {
     "data": {
      "text/plain": [
       "LotFrontage     227\n",
       "MasVnrArea       15\n",
       "BsmtFinSF1        1\n",
       "BsmtFinSF2        1\n",
       "BsmtUnfSF         1\n",
       "TotalBsmtSF       1\n",
       "BsmtFullBath      2\n",
       "BsmtHalfBath      2\n",
       "GarageYrBlt      78\n",
       "GarageCars        1\n",
       "GarageArea        1\n",
       "dtype: int64"
      ]
     },
     "execution_count": 29,
     "metadata": {},
     "output_type": "execute_result"
    }
   ],
   "source": [
    "misstemp = X_test.isnull().sum()\n",
    "misstemp[misstemp>0]"
   ]
  },
  {
   "cell_type": "code",
   "execution_count": 30,
   "metadata": {
    "execution": {
     "iopub.execute_input": "2020-08-24T00:15:49.199275Z",
     "iopub.status.busy": "2020-08-24T00:15:49.198007Z",
     "iopub.status.idle": "2020-08-24T00:15:49.268272Z",
     "shell.execute_reply": "2020-08-24T00:15:49.267391Z"
    },
    "papermill": {
     "duration": 0.099174,
     "end_time": "2020-08-24T00:15:49.268455",
     "exception": false,
     "start_time": "2020-08-24T00:15:49.169281",
     "status": "completed"
    },
    "tags": []
   },
   "outputs": [
    {
     "data": {
      "application/javascript": [
       "parent.postMessage({\"jupyterEvent\": \"custom.exercise_interaction\", \"data\": {\"outcomeType\": 1, \"valueTowardsCompletion\": 1.0, \"interactionType\": 1, \"questionType\": 2, \"questionId\": \"4.2_PredsCodeB\", \"learnToolsVersion\": \"0.3.4\", \"failureMessage\": \"\", \"exceptionClass\": \"\", \"trace\": \"\"}}, \"*\")"
      ],
      "text/plain": [
       "<IPython.core.display.Javascript object>"
      ]
     },
     "metadata": {},
     "output_type": "display_data"
    },
    {
     "data": {
      "text/markdown": [
       "<span style=\"color:#33cc33\">Correct</span>"
      ],
      "text/plain": [
       "Correct"
      ]
     },
     "metadata": {},
     "output_type": "display_data"
    }
   ],
   "source": [
    "# Fill in the line below: preprocess test data\n",
    "tempTest = X_test.copy()\n",
    "tempTest.GarageYrBlt.fillna(1900, inplace=True)\n",
    "tempTest.MasVnrArea.fillna(0, inplace=True)\n",
    "tempTest.drop(columns=['LotFrontage'], inplace=True)\n",
    "\n",
    "from sklearn.impute import SimpleImputer\n",
    "\n",
    "impute = SimpleImputer()\n",
    "\n",
    "tempTest = pd.DataFrame(impute.fit_transform(tempTest))\n",
    "\n",
    "final_X_test = tempTest.copy()\n",
    "\n",
    "# Fill in the line below: get test predictions\n",
    "preds_test = model.predict(final_X_test)\n",
    "\n",
    "step_4.b.check()"
   ]
  },
  {
   "cell_type": "code",
   "execution_count": 31,
   "metadata": {
    "execution": {
     "iopub.execute_input": "2020-08-24T00:15:49.310124Z",
     "iopub.status.busy": "2020-08-24T00:15:49.309239Z",
     "iopub.status.idle": "2020-08-24T00:15:49.312805Z",
     "shell.execute_reply": "2020-08-24T00:15:49.312031Z"
    },
    "papermill": {
     "duration": 0.026593,
     "end_time": "2020-08-24T00:15:49.312959",
     "exception": false,
     "start_time": "2020-08-24T00:15:49.286366",
     "status": "completed"
    },
    "tags": []
   },
   "outputs": [],
   "source": [
    "# Lines below will give you a hint or solution code\n",
    "#step_4.b.hint()\n",
    "#step_4.b.solution()"
   ]
  },
  {
   "cell_type": "markdown",
   "execution_count": null,
   "metadata": {
    "papermill": {
     "duration": 0.01986,
     "end_time": "2020-08-24T00:15:49.351699",
     "exception": false,
     "start_time": "2020-08-24T00:15:49.331839",
     "status": "completed"
    },
    "tags": []
   },
   "source": [
    "Run the next code cell without changes to save your results to a CSV file that can be submitted directly to the competition."
   ]
  },
  {
   "cell_type": "code",
   "execution_count": 32,
   "metadata": {
    "execution": {
     "iopub.execute_input": "2020-08-24T00:15:49.397176Z",
     "iopub.status.busy": "2020-08-24T00:15:49.396309Z",
     "iopub.status.idle": "2020-08-24T00:15:49.563341Z",
     "shell.execute_reply": "2020-08-24T00:15:49.562674Z"
    },
    "papermill": {
     "duration": 0.193283,
     "end_time": "2020-08-24T00:15:49.563519",
     "exception": false,
     "start_time": "2020-08-24T00:15:49.370236",
     "status": "completed"
    },
    "tags": []
   },
   "outputs": [],
   "source": [
    "# Save test predictions to file\n",
    "output = pd.DataFrame({'Id': X_test.index,\n",
    "                       'SalePrice': preds_test})\n",
    "output.to_csv('submission.csv', index=False)"
   ]
  },
  {
   "cell_type": "markdown",
   "execution_count": null,
   "metadata": {
    "papermill": {
     "duration": 0.017307,
     "end_time": "2020-08-24T00:15:49.599247",
     "exception": false,
     "start_time": "2020-08-24T00:15:49.581940",
     "status": "completed"
    },
    "tags": []
   },
   "source": [
    "# Step 5: Submit your results\n",
    "\n",
    "Once you have successfully completed Step 4, you're ready to submit your results to the leaderboard!  (_You also learned how to do this in the previous exercise.  If you need a reminder of how to do this, please use the instructions below._)  \n",
    "\n",
    "First, you'll need to join the competition if you haven't already.  So open a new window by clicking on [this link](https://www.kaggle.com/c/home-data-for-ml-course).  Then click on the **Join Competition** button.\n",
    "\n",
    "![join competition image](https://i.imgur.com/wLmFtH3.png)\n",
    "\n",
    "Next, follow the instructions below:\n",
    "1. Begin by clicking on the blue **Save Version** button in the top right corner of the window.  This will generate a pop-up window.  \n",
    "2. Ensure that the **Save and Run All** option is selected, and then click on the blue **Save** button.\n",
    "3. This generates a window in the bottom left corner of the notebook.  After it has finished running, click on the number to the right of the **Save Version** button.  This pulls up a list of versions on the right of the screen.  Click on the ellipsis **(...)** to the right of the most recent version, and select **Open in Viewer**.  This brings you into view mode of the same page. You will need to scroll down to get back to these instructions.\n",
    "4. Click on the **Output** tab on the right of the screen.  Then, click on the blue **Submit** button to submit your results to the leaderboard.\n",
    "\n",
    "You have now successfully submitted to the competition!\n",
    "\n",
    "If you want to keep working to improve your performance, select the blue **Edit** button in the top right of the screen. Then you can change your code and repeat the process. There's a lot of room to improve, and you will climb up the leaderboard as you work.\n",
    "\n",
    "\n",
    "# Keep going\n",
    "\n",
    "Move on to learn what **[categorical variables](https://www.kaggle.com/alexisbcook/categorical-variables)** are, along with how to incorporate them into your machine learning models.  Categorical variables are very common in real-world data, but you'll get an error if you try to plug them into your models without processing them first!"
   ]
  },
  {
   "cell_type": "markdown",
   "execution_count": null,
   "metadata": {
    "papermill": {
     "duration": 0.017361,
     "end_time": "2020-08-24T00:15:49.634305",
     "exception": false,
     "start_time": "2020-08-24T00:15:49.616944",
     "status": "completed"
    },
    "tags": []
   },
   "source": [
    "---\n",
    "**[Intermediate Machine Learning Home Page](https://www.kaggle.com/learn/intermediate-machine-learning)**\n",
    "\n",
    "\n",
    "\n",
    "\n",
    "\n",
    "*Have questions or comments? Visit the [Learn Discussion forum](https://www.kaggle.com/learn-forum/161289) to chat with other Learners.*"
   ]
  }
 ],
 "metadata": {
  "kernelspec": {
   "display_name": "Python 3",
   "language": "python",
   "name": "python3"
  },
  "language_info": {
   "codemirror_mode": {
    "name": "ipython",
    "version": 3
   },
   "file_extension": ".py",
   "mimetype": "text/x-python",
   "name": "python",
   "nbconvert_exporter": "python",
   "pygments_lexer": "ipython3",
   "version": "3.7.6"
  },
  "papermill": {
   "duration": 15.061449,
   "end_time": "2020-08-24T00:15:49.761942",
   "environment_variables": {},
   "exception": null,
   "input_path": "__notebook__.ipynb",
   "output_path": "__notebook__.ipynb",
   "parameters": {},
   "start_time": "2020-08-24T00:15:34.700493",
   "version": "2.1.0"
  }
 },
 "nbformat": 4,
 "nbformat_minor": 4
}
